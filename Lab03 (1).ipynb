{
  "cells": [
    {
      "cell_type": "markdown",
      "metadata": {
        "id": "XbOcQCrsMJQX"
      },
      "source": [
        "\n",
        "# Carga de Librerias"
      ]
    },
    {
      "cell_type": "code",
      "execution_count": 1,
      "metadata": {
        "id": "GyQzYsCb62Iv"
      },
      "outputs": [],
      "source": [
        "import numpy as np\n",
        "import pandas as pd\n",
        "import seaborn as sns\n",
        "import matplotlib.pyplot as plt"
      ]
    },
    {
      "cell_type": "markdown",
      "metadata": {
        "id": "Ec1bOG7yMPjO"
      },
      "source": [
        "# Preprocesamiento de los datos"
      ]
    },
    {
      "cell_type": "markdown",
      "metadata": {
        "id": "l7HCTcEcMYfm"
      },
      "source": [
        "Importamos los datos desde el .csv"
      ]
    },
    {
      "cell_type": "code",
      "execution_count": 2,
      "metadata": {
        "colab": {
          "base_uri": "https://localhost:8080/",
          "height": 206
        },
        "id": "Zqenjwlk_k6N",
        "outputId": "8d36e8ad-9610-462c-8760-c92dc118b6d4"
      },
      "outputs": [
        {
          "output_type": "execute_result",
          "data": {
            "text/plain": [
              "      Pokémon   Tipo  PS  Ataque  Defensa  Ataque especial  Defensa especial  \\\n",
              "0  TYPHLOSION  Fuego   2       3        2                4                 2   \n",
              "1      PONYTA  Fuego   2       3        2                2                 2   \n",
              "2     TORKOAL  Fuego   2       3        4                3                 2   \n",
              "3    ARCANINE  Fuego   3       5        3                4                 3   \n",
              "4     STARMIE   Agua   2       3        3                4                 2   \n",
              "\n",
              "   Velocidad  \n",
              "0          4  \n",
              "1          3  \n",
              "2          1  \n",
              "3          4  \n",
              "4          4  "
            ],
            "text/html": [
              "\n",
              "  <div id=\"df-4dff552d-2f9f-4d93-bc28-165396cc6891\">\n",
              "    <div class=\"colab-df-container\">\n",
              "      <div>\n",
              "<style scoped>\n",
              "    .dataframe tbody tr th:only-of-type {\n",
              "        vertical-align: middle;\n",
              "    }\n",
              "\n",
              "    .dataframe tbody tr th {\n",
              "        vertical-align: top;\n",
              "    }\n",
              "\n",
              "    .dataframe thead th {\n",
              "        text-align: right;\n",
              "    }\n",
              "</style>\n",
              "<table border=\"1\" class=\"dataframe\">\n",
              "  <thead>\n",
              "    <tr style=\"text-align: right;\">\n",
              "      <th></th>\n",
              "      <th>Pokémon</th>\n",
              "      <th>Tipo</th>\n",
              "      <th>PS</th>\n",
              "      <th>Ataque</th>\n",
              "      <th>Defensa</th>\n",
              "      <th>Ataque especial</th>\n",
              "      <th>Defensa especial</th>\n",
              "      <th>Velocidad</th>\n",
              "    </tr>\n",
              "  </thead>\n",
              "  <tbody>\n",
              "    <tr>\n",
              "      <th>0</th>\n",
              "      <td>TYPHLOSION</td>\n",
              "      <td>Fuego</td>\n",
              "      <td>2</td>\n",
              "      <td>3</td>\n",
              "      <td>2</td>\n",
              "      <td>4</td>\n",
              "      <td>2</td>\n",
              "      <td>4</td>\n",
              "    </tr>\n",
              "    <tr>\n",
              "      <th>1</th>\n",
              "      <td>PONYTA</td>\n",
              "      <td>Fuego</td>\n",
              "      <td>2</td>\n",
              "      <td>3</td>\n",
              "      <td>2</td>\n",
              "      <td>2</td>\n",
              "      <td>2</td>\n",
              "      <td>3</td>\n",
              "    </tr>\n",
              "    <tr>\n",
              "      <th>2</th>\n",
              "      <td>TORKOAL</td>\n",
              "      <td>Fuego</td>\n",
              "      <td>2</td>\n",
              "      <td>3</td>\n",
              "      <td>4</td>\n",
              "      <td>3</td>\n",
              "      <td>2</td>\n",
              "      <td>1</td>\n",
              "    </tr>\n",
              "    <tr>\n",
              "      <th>3</th>\n",
              "      <td>ARCANINE</td>\n",
              "      <td>Fuego</td>\n",
              "      <td>3</td>\n",
              "      <td>5</td>\n",
              "      <td>3</td>\n",
              "      <td>4</td>\n",
              "      <td>3</td>\n",
              "      <td>4</td>\n",
              "    </tr>\n",
              "    <tr>\n",
              "      <th>4</th>\n",
              "      <td>STARMIE</td>\n",
              "      <td>Agua</td>\n",
              "      <td>2</td>\n",
              "      <td>3</td>\n",
              "      <td>3</td>\n",
              "      <td>4</td>\n",
              "      <td>2</td>\n",
              "      <td>4</td>\n",
              "    </tr>\n",
              "  </tbody>\n",
              "</table>\n",
              "</div>\n",
              "      <button class=\"colab-df-convert\" onclick=\"convertToInteractive('df-4dff552d-2f9f-4d93-bc28-165396cc6891')\"\n",
              "              title=\"Convert this dataframe to an interactive table.\"\n",
              "              style=\"display:none;\">\n",
              "        \n",
              "  <svg xmlns=\"http://www.w3.org/2000/svg\" height=\"24px\"viewBox=\"0 0 24 24\"\n",
              "       width=\"24px\">\n",
              "    <path d=\"M0 0h24v24H0V0z\" fill=\"none\"/>\n",
              "    <path d=\"M18.56 5.44l.94 2.06.94-2.06 2.06-.94-2.06-.94-.94-2.06-.94 2.06-2.06.94zm-11 1L8.5 8.5l.94-2.06 2.06-.94-2.06-.94L8.5 2.5l-.94 2.06-2.06.94zm10 10l.94 2.06.94-2.06 2.06-.94-2.06-.94-.94-2.06-.94 2.06-2.06.94z\"/><path d=\"M17.41 7.96l-1.37-1.37c-.4-.4-.92-.59-1.43-.59-.52 0-1.04.2-1.43.59L10.3 9.45l-7.72 7.72c-.78.78-.78 2.05 0 2.83L4 21.41c.39.39.9.59 1.41.59.51 0 1.02-.2 1.41-.59l7.78-7.78 2.81-2.81c.8-.78.8-2.07 0-2.86zM5.41 20L4 18.59l7.72-7.72 1.47 1.35L5.41 20z\"/>\n",
              "  </svg>\n",
              "      </button>\n",
              "      \n",
              "  <style>\n",
              "    .colab-df-container {\n",
              "      display:flex;\n",
              "      flex-wrap:wrap;\n",
              "      gap: 12px;\n",
              "    }\n",
              "\n",
              "    .colab-df-convert {\n",
              "      background-color: #E8F0FE;\n",
              "      border: none;\n",
              "      border-radius: 50%;\n",
              "      cursor: pointer;\n",
              "      display: none;\n",
              "      fill: #1967D2;\n",
              "      height: 32px;\n",
              "      padding: 0 0 0 0;\n",
              "      width: 32px;\n",
              "    }\n",
              "\n",
              "    .colab-df-convert:hover {\n",
              "      background-color: #E2EBFA;\n",
              "      box-shadow: 0px 1px 2px rgba(60, 64, 67, 0.3), 0px 1px 3px 1px rgba(60, 64, 67, 0.15);\n",
              "      fill: #174EA6;\n",
              "    }\n",
              "\n",
              "    [theme=dark] .colab-df-convert {\n",
              "      background-color: #3B4455;\n",
              "      fill: #D2E3FC;\n",
              "    }\n",
              "\n",
              "    [theme=dark] .colab-df-convert:hover {\n",
              "      background-color: #434B5C;\n",
              "      box-shadow: 0px 1px 3px 1px rgba(0, 0, 0, 0.15);\n",
              "      filter: drop-shadow(0px 1px 2px rgba(0, 0, 0, 0.3));\n",
              "      fill: #FFFFFF;\n",
              "    }\n",
              "  </style>\n",
              "\n",
              "      <script>\n",
              "        const buttonEl =\n",
              "          document.querySelector('#df-4dff552d-2f9f-4d93-bc28-165396cc6891 button.colab-df-convert');\n",
              "        buttonEl.style.display =\n",
              "          google.colab.kernel.accessAllowed ? 'block' : 'none';\n",
              "\n",
              "        async function convertToInteractive(key) {\n",
              "          const element = document.querySelector('#df-4dff552d-2f9f-4d93-bc28-165396cc6891');\n",
              "          const dataTable =\n",
              "            await google.colab.kernel.invokeFunction('convertToInteractive',\n",
              "                                                     [key], {});\n",
              "          if (!dataTable) return;\n",
              "\n",
              "          const docLinkHtml = 'Like what you see? Visit the ' +\n",
              "            '<a target=\"_blank\" href=https://colab.research.google.com/notebooks/data_table.ipynb>data table notebook</a>'\n",
              "            + ' to learn more about interactive tables.';\n",
              "          element.innerHTML = '';\n",
              "          dataTable['output_type'] = 'display_data';\n",
              "          await google.colab.output.renderOutput(dataTable, element);\n",
              "          const docLink = document.createElement('div');\n",
              "          docLink.innerHTML = docLinkHtml;\n",
              "          element.appendChild(docLink);\n",
              "        }\n",
              "      </script>\n",
              "    </div>\n",
              "  </div>\n",
              "  "
            ]
          },
          "metadata": {},
          "execution_count": 2
        }
      ],
      "source": [
        "#Cargamos los datos leyendo el documento .csv\n",
        "data = pd.read_csv('pokemon.csv', encoding='UTF-8')\n",
        "data.head()\n"
      ]
    },
    {
      "cell_type": "markdown",
      "metadata": {
        "id": "c0n9qgvIWYtr"
      },
      "source": [
        "Usamos la funcion .shape para ver la forma de nuestro Data Frame. En este caso 20 filas y 8 columnas. Lo que dan 160 datos en total."
      ]
    },
    {
      "cell_type": "code",
      "execution_count": 3,
      "metadata": {
        "colab": {
          "base_uri": "https://localhost:8080/"
        },
        "id": "qD2CThhEV4ce",
        "outputId": "5bba2be0-df5d-4f7d-a217-72c661af2676"
      },
      "outputs": [
        {
          "output_type": "execute_result",
          "data": {
            "text/plain": [
              "(20, 8)"
            ]
          },
          "metadata": {},
          "execution_count": 3
        }
      ],
      "source": [
        "data.shape"
      ]
    },
    {
      "cell_type": "markdown",
      "metadata": {
        "id": "3uWzyoL8NMC9"
      },
      "source": [
        "Usamos la funcion .dtypes para ver los distintos tipos de datos que tenemos y ver cuales de ellos son utiles."
      ]
    },
    {
      "cell_type": "code",
      "execution_count": 4,
      "metadata": {
        "colab": {
          "base_uri": "https://localhost:8080/"
        },
        "id": "SvH8H9h4Ab7t",
        "outputId": "5e593d09-bfab-4159-c236-0a5b81a67478"
      },
      "outputs": [
        {
          "output_type": "execute_result",
          "data": {
            "text/plain": [
              "Pokémon             object\n",
              "Tipo                object\n",
              "PS                   int64\n",
              "Ataque               int64\n",
              "Defensa              int64\n",
              "Ataque especial      int64\n",
              "Defensa especial     int64\n",
              "Velocidad            int64\n",
              "dtype: object"
            ]
          },
          "metadata": {},
          "execution_count": 4
        }
      ],
      "source": [
        "data.dtypes\n"
      ]
    },
    {
      "cell_type": "markdown",
      "metadata": {
        "id": "5XEAZvh4UADo"
      },
      "source": [
        "Observamos que las variables \"Pokemon\" y \"Tipo\" son variables objeto y no entero. Estas variables habra que limpiarlas para poder estandarizar y efectuar el PCA correctamente. A continuacion verificaremos si hay variables nulas y duplicadas."
      ]
    },
    {
      "cell_type": "code",
      "execution_count": 5,
      "metadata": {
        "colab": {
          "base_uri": "https://localhost:8080/"
        },
        "id": "a2hhS536d_b_",
        "outputId": "b52afb90-4fd9-4df9-8112-d37ec8a04a57"
      },
      "outputs": [
        {
          "output_type": "execute_result",
          "data": {
            "text/plain": [
              "0     False\n",
              "1     False\n",
              "2     False\n",
              "3     False\n",
              "4     False\n",
              "5     False\n",
              "6     False\n",
              "7     False\n",
              "8     False\n",
              "9     False\n",
              "10    False\n",
              "11    False\n",
              "12    False\n",
              "13    False\n",
              "14    False\n",
              "15    False\n",
              "16    False\n",
              "17    False\n",
              "18    False\n",
              "19    False\n",
              "dtype: bool"
            ]
          },
          "metadata": {},
          "execution_count": 5
        }
      ],
      "source": [
        "data.duplicated()"
      ]
    },
    {
      "cell_type": "code",
      "execution_count": 6,
      "metadata": {
        "colab": {
          "base_uri": "https://localhost:8080/"
        },
        "id": "qcHqlVwOA9XN",
        "outputId": "62a72140-96d1-40d7-c93c-bc617d7d8870"
      },
      "outputs": [
        {
          "output_type": "execute_result",
          "data": {
            "text/plain": [
              "False"
            ]
          },
          "metadata": {},
          "execution_count": 6
        }
      ],
      "source": [
        "data.isnull().values.any() # Este código nos devolverá True si hay algún valor NaN en nuestro DataFrame."
      ]
    },
    {
      "cell_type": "markdown",
      "metadata": {
        "id": "uqnrpY9VUDUl"
      },
      "source": [
        "Observamos que no hay variables nulas ni duplicadas. \n",
        "\n",
        "A continuacion eliminamos las variables de tipo 'object' para poder seguir analizando los datos. Si no hay exclusivamente datos numericos no podremos buscar outliers o posteriormente hacer PCA. \n",
        "\n",
        "El DataFrame tras la eliminacion de las variables no numericas queda de la siguiente forma:"
      ]
    },
    {
      "cell_type": "code",
      "execution_count": 7,
      "metadata": {
        "colab": {
          "base_uri": "https://localhost:8080/",
          "height": 206
        },
        "id": "xX7rX0ntBPLp",
        "outputId": "6e2ab78e-234f-44b2-f9e6-216b5f1a4031"
      },
      "outputs": [
        {
          "output_type": "execute_result",
          "data": {
            "text/plain": [
              "   PS  Ataque  Defensa  Ataque especial  Defensa especial  Velocidad\n",
              "0   2       3        2                4                 2          4\n",
              "1   2       3        2                2                 2          3\n",
              "2   2       3        4                3                 2          1\n",
              "3   3       5        3                4                 3          4\n",
              "4   2       3        3                4                 2          4"
            ],
            "text/html": [
              "\n",
              "  <div id=\"df-d4f755bf-0d79-4559-9242-d87b8ef680b4\">\n",
              "    <div class=\"colab-df-container\">\n",
              "      <div>\n",
              "<style scoped>\n",
              "    .dataframe tbody tr th:only-of-type {\n",
              "        vertical-align: middle;\n",
              "    }\n",
              "\n",
              "    .dataframe tbody tr th {\n",
              "        vertical-align: top;\n",
              "    }\n",
              "\n",
              "    .dataframe thead th {\n",
              "        text-align: right;\n",
              "    }\n",
              "</style>\n",
              "<table border=\"1\" class=\"dataframe\">\n",
              "  <thead>\n",
              "    <tr style=\"text-align: right;\">\n",
              "      <th></th>\n",
              "      <th>PS</th>\n",
              "      <th>Ataque</th>\n",
              "      <th>Defensa</th>\n",
              "      <th>Ataque especial</th>\n",
              "      <th>Defensa especial</th>\n",
              "      <th>Velocidad</th>\n",
              "    </tr>\n",
              "  </thead>\n",
              "  <tbody>\n",
              "    <tr>\n",
              "      <th>0</th>\n",
              "      <td>2</td>\n",
              "      <td>3</td>\n",
              "      <td>2</td>\n",
              "      <td>4</td>\n",
              "      <td>2</td>\n",
              "      <td>4</td>\n",
              "    </tr>\n",
              "    <tr>\n",
              "      <th>1</th>\n",
              "      <td>2</td>\n",
              "      <td>3</td>\n",
              "      <td>2</td>\n",
              "      <td>2</td>\n",
              "      <td>2</td>\n",
              "      <td>3</td>\n",
              "    </tr>\n",
              "    <tr>\n",
              "      <th>2</th>\n",
              "      <td>2</td>\n",
              "      <td>3</td>\n",
              "      <td>4</td>\n",
              "      <td>3</td>\n",
              "      <td>2</td>\n",
              "      <td>1</td>\n",
              "    </tr>\n",
              "    <tr>\n",
              "      <th>3</th>\n",
              "      <td>3</td>\n",
              "      <td>5</td>\n",
              "      <td>3</td>\n",
              "      <td>4</td>\n",
              "      <td>3</td>\n",
              "      <td>4</td>\n",
              "    </tr>\n",
              "    <tr>\n",
              "      <th>4</th>\n",
              "      <td>2</td>\n",
              "      <td>3</td>\n",
              "      <td>3</td>\n",
              "      <td>4</td>\n",
              "      <td>2</td>\n",
              "      <td>4</td>\n",
              "    </tr>\n",
              "  </tbody>\n",
              "</table>\n",
              "</div>\n",
              "      <button class=\"colab-df-convert\" onclick=\"convertToInteractive('df-d4f755bf-0d79-4559-9242-d87b8ef680b4')\"\n",
              "              title=\"Convert this dataframe to an interactive table.\"\n",
              "              style=\"display:none;\">\n",
              "        \n",
              "  <svg xmlns=\"http://www.w3.org/2000/svg\" height=\"24px\"viewBox=\"0 0 24 24\"\n",
              "       width=\"24px\">\n",
              "    <path d=\"M0 0h24v24H0V0z\" fill=\"none\"/>\n",
              "    <path d=\"M18.56 5.44l.94 2.06.94-2.06 2.06-.94-2.06-.94-.94-2.06-.94 2.06-2.06.94zm-11 1L8.5 8.5l.94-2.06 2.06-.94-2.06-.94L8.5 2.5l-.94 2.06-2.06.94zm10 10l.94 2.06.94-2.06 2.06-.94-2.06-.94-.94-2.06-.94 2.06-2.06.94z\"/><path d=\"M17.41 7.96l-1.37-1.37c-.4-.4-.92-.59-1.43-.59-.52 0-1.04.2-1.43.59L10.3 9.45l-7.72 7.72c-.78.78-.78 2.05 0 2.83L4 21.41c.39.39.9.59 1.41.59.51 0 1.02-.2 1.41-.59l7.78-7.78 2.81-2.81c.8-.78.8-2.07 0-2.86zM5.41 20L4 18.59l7.72-7.72 1.47 1.35L5.41 20z\"/>\n",
              "  </svg>\n",
              "      </button>\n",
              "      \n",
              "  <style>\n",
              "    .colab-df-container {\n",
              "      display:flex;\n",
              "      flex-wrap:wrap;\n",
              "      gap: 12px;\n",
              "    }\n",
              "\n",
              "    .colab-df-convert {\n",
              "      background-color: #E8F0FE;\n",
              "      border: none;\n",
              "      border-radius: 50%;\n",
              "      cursor: pointer;\n",
              "      display: none;\n",
              "      fill: #1967D2;\n",
              "      height: 32px;\n",
              "      padding: 0 0 0 0;\n",
              "      width: 32px;\n",
              "    }\n",
              "\n",
              "    .colab-df-convert:hover {\n",
              "      background-color: #E2EBFA;\n",
              "      box-shadow: 0px 1px 2px rgba(60, 64, 67, 0.3), 0px 1px 3px 1px rgba(60, 64, 67, 0.15);\n",
              "      fill: #174EA6;\n",
              "    }\n",
              "\n",
              "    [theme=dark] .colab-df-convert {\n",
              "      background-color: #3B4455;\n",
              "      fill: #D2E3FC;\n",
              "    }\n",
              "\n",
              "    [theme=dark] .colab-df-convert:hover {\n",
              "      background-color: #434B5C;\n",
              "      box-shadow: 0px 1px 3px 1px rgba(0, 0, 0, 0.15);\n",
              "      filter: drop-shadow(0px 1px 2px rgba(0, 0, 0, 0.3));\n",
              "      fill: #FFFFFF;\n",
              "    }\n",
              "  </style>\n",
              "\n",
              "      <script>\n",
              "        const buttonEl =\n",
              "          document.querySelector('#df-d4f755bf-0d79-4559-9242-d87b8ef680b4 button.colab-df-convert');\n",
              "        buttonEl.style.display =\n",
              "          google.colab.kernel.accessAllowed ? 'block' : 'none';\n",
              "\n",
              "        async function convertToInteractive(key) {\n",
              "          const element = document.querySelector('#df-d4f755bf-0d79-4559-9242-d87b8ef680b4');\n",
              "          const dataTable =\n",
              "            await google.colab.kernel.invokeFunction('convertToInteractive',\n",
              "                                                     [key], {});\n",
              "          if (!dataTable) return;\n",
              "\n",
              "          const docLinkHtml = 'Like what you see? Visit the ' +\n",
              "            '<a target=\"_blank\" href=https://colab.research.google.com/notebooks/data_table.ipynb>data table notebook</a>'\n",
              "            + ' to learn more about interactive tables.';\n",
              "          element.innerHTML = '';\n",
              "          dataTable['output_type'] = 'display_data';\n",
              "          await google.colab.output.renderOutput(dataTable, element);\n",
              "          const docLink = document.createElement('div');\n",
              "          docLink.innerHTML = docLinkHtml;\n",
              "          element.appendChild(docLink);\n",
              "        }\n",
              "      </script>\n",
              "    </div>\n",
              "  </div>\n",
              "  "
            ]
          },
          "metadata": {},
          "execution_count": 7
        }
      ],
      "source": [
        "data=data.drop([\"Pokémon\",\"Tipo\"],axis=1)\n",
        "data.head()\n"
      ]
    },
    {
      "cell_type": "markdown",
      "metadata": {
        "id": "Y54--AfWiBgJ"
      },
      "source": [
        "A continuacion representamos cada variable en un diagrama de bigotes en busca de un Outlier."
      ]
    },
    {
      "cell_type": "code",
      "execution_count": 8,
      "metadata": {
        "colab": {
          "base_uri": "https://localhost:8080/",
          "height": 1000
        },
        "id": "K3AeX3Hzl_To",
        "outputId": "631b65db-41f8-4d92-cd01-2303d3f16869"
      },
      "outputs": [
        {
          "output_type": "display_data",
          "data": {
            "text/plain": [
              "<Figure size 432x288 with 1 Axes>"
            ],
            "image/png": "[encoded data removed]"
          },
          "metadata": {
            "needs_background": "light"
          }
        },
        {
          "output_type": "display_data",
          "data": {
            "text/plain": [
              "<Figure size 432x288 with 1 Axes>"
            ],
            "image/png": "[encoded data removed]"
          },
          "metadata": {
            "needs_background": "light"
          }
        },
        {
          "output_type": "display_data",
          "data": {
            "text/plain": [
              "<Figure size 432x288 with 1 Axes>"
            ],
            "image/png": "[encoded data removed]"
          },
          "metadata": {
            "needs_background": "light"
          }
        },
        {
          "output_type": "display_data",
          "data": {
            "text/plain": [
              "<Figure size 432x288 with 1 Axes>"
            ],
            "image/png": "[encoded data removed]"
          },
          "metadata": {
            "needs_background": "light"
          }
        },
        {
          "output_type": "display_data",
          "data": {
            "text/plain": [
              "<Figure size 432x288 with 1 Axes>"
            ],
            "image/png": "[encoded data removed]"
          },
          "metadata": {
            "needs_background": "light"
          }
        },
        {
          "output_type": "display_data",
          "data": {
            "text/plain": [
              "<Figure size 432x288 with 1 Axes>"
            ],
            "image/png": "[encoded data removed]"
          },
          "metadata": {
            "needs_background": "light"
          }
        }
      ],
      "source": [
        "for i in data.columns:\n",
        "  arr = data[i]\n",
        "  plt.boxplot(arr)\n",
        "  plt.title(\"Outliers de [{0}]\".format(i))\n",
        "  plt.show()"
      ]
    },
    {
      "cell_type": "markdown",
      "metadata": {
        "id": "MkWfZ8FAnTCb"
      },
      "source": [
        "Podemos observar que no hay Outliers en ninguna de las variables restantes por tanto ya hemos finalizado con esta parte de preprocesameinto de datos."
      ]
    },
    {
      "cell_type": "markdown",
      "metadata": {
        "id": "-XFJAJPkWBxZ"
      },
      "source": [
        "# Normalizacion de datos"
      ]
    },
    {
      "cell_type": "code",
      "execution_count": 9,
      "metadata": {
        "colab": {
          "base_uri": "https://localhost:8080/",
          "height": 676
        },
        "id": "x-Gcmty_DBFB",
        "outputId": "bf33ee32-0972-46b9-87b9-d5b974aa25ae"
      },
      "outputs": [
        {
          "output_type": "execute_result",
          "data": {
            "text/plain": [
              "          PS    Ataque  Defensa  Ataque especial  Defensa especial  Velocidad\n",
              "0  -0.326164  0.054313    -0.75         0.564152             -0.50   1.037975\n",
              "1  -0.326164  0.054313    -0.75        -1.171700             -0.50   0.135388\n",
              "2  -0.326164  0.054313     1.75        -0.303774             -0.50  -1.669787\n",
              "3   0.978492  2.226814     0.50         0.564152              0.75   1.037975\n",
              "4  -0.326164  0.054313     0.50         0.564152             -0.50   1.037975\n",
              "5   0.978492  1.140563     0.50         1.432078              0.75   1.037975\n",
              "6   0.978492 -1.031938    -0.75         0.564152              0.75   0.135388\n",
              "7   0.978492 -1.031938    -0.75        -1.171700             -0.50  -0.767199\n",
              "8  -0.326164  1.140563     1.75        -1.171700             -0.50   0.135388\n",
              "9   0.978492  0.054313    -0.75        -0.303774             -0.50  -0.767199\n",
              "10 -1.630820 -2.118189    -0.75        -1.171700             -1.75  -1.669787\n",
              "11 -0.326164  1.140563    -0.75        -1.171700             -0.50   0.135388\n",
              "12 -0.326164 -1.031938    -0.75         0.564152              0.75   1.940563\n",
              "13 -0.326164  0.054313     0.50         1.432078             -0.50  -0.767199\n",
              "14 -1.630820 -1.031938    -2.00        -1.171700             -1.75   0.135388\n",
              "15  0.978492  0.054313     0.50         1.432078              2.00   0.135388\n",
              "16 -1.630820  0.054313     1.75        -1.171700              2.00  -0.767199\n",
              "17  2.283148  1.140563     0.50         0.564152              0.75   0.135388\n",
              "18 -0.326164  0.054313     0.50        -0.303774              0.75  -1.669787\n",
              "19 -0.326164 -1.031938    -0.75         1.432078             -0.50   1.037975"
            ],
            "text/html": [
              "\n",
              "  <div id=\"df-f7878da6-707b-4a43-ad1a-7dc15b629312\">\n",
              "    <div class=\"colab-df-container\">\n",
              "      <div>\n",
              "<style scoped>\n",
              "    .dataframe tbody tr th:only-of-type {\n",
              "        vertical-align: middle;\n",
              "    }\n",
              "\n",
              "    .dataframe tbody tr th {\n",
              "        vertical-align: top;\n",
              "    }\n",
              "\n",
              "    .dataframe thead th {\n",
              "        text-align: right;\n",
              "    }\n",
              "</style>\n",
              "<table border=\"1\" class=\"dataframe\">\n",
              "  <thead>\n",
              "    <tr style=\"text-align: right;\">\n",
              "      <th></th>\n",
              "      <th>PS</th>\n",
              "      <th>Ataque</th>\n",
              "      <th>Defensa</th>\n",
              "      <th>Ataque especial</th>\n",
              "      <th>Defensa especial</th>\n",
              "      <th>Velocidad</th>\n",
              "    </tr>\n",
              "  </thead>\n",
              "  <tbody>\n",
              "    <tr>\n",
              "      <th>0</th>\n",
              "      <td>-0.326164</td>\n",
              "      <td>0.054313</td>\n",
              "      <td>-0.75</td>\n",
              "      <td>0.564152</td>\n",
              "      <td>-0.50</td>\n",
              "      <td>1.037975</td>\n",
              "    </tr>\n",
              "    <tr>\n",
              "      <th>1</th>\n",
              "      <td>-0.326164</td>\n",
              "      <td>0.054313</td>\n",
              "      <td>-0.75</td>\n",
              "      <td>-1.171700</td>\n",
              "      <td>-0.50</td>\n",
              "      <td>0.135388</td>\n",
              "    </tr>\n",
              "    <tr>\n",
              "      <th>2</th>\n",
              "      <td>-0.326164</td>\n",
              "      <td>0.054313</td>\n",
              "      <td>1.75</td>\n",
              "      <td>-0.303774</td>\n",
              "      <td>-0.50</td>\n",
              "      <td>-1.669787</td>\n",
              "    </tr>\n",
              "    <tr>\n",
              "      <th>3</th>\n",
              "      <td>0.978492</td>\n",
              "      <td>2.226814</td>\n",
              "      <td>0.50</td>\n",
              "      <td>0.564152</td>\n",
              "      <td>0.75</td>\n",
              "      <td>1.037975</td>\n",
              "    </tr>\n",
              "    <tr>\n",
              "      <th>4</th>\n",
              "      <td>-0.326164</td>\n",
              "      <td>0.054313</td>\n",
              "      <td>0.50</td>\n",
              "      <td>0.564152</td>\n",
              "      <td>-0.50</td>\n",
              "      <td>1.037975</td>\n",
              "    </tr>\n",
              "    <tr>\n",
              "      <th>5</th>\n",
              "      <td>0.978492</td>\n",
              "      <td>1.140563</td>\n",
              "      <td>0.50</td>\n",
              "      <td>1.432078</td>\n",
              "      <td>0.75</td>\n",
              "      <td>1.037975</td>\n",
              "    </tr>\n",
              "    <tr>\n",
              "      <th>6</th>\n",
              "      <td>0.978492</td>\n",
              "      <td>-1.031938</td>\n",
              "      <td>-0.75</td>\n",
              "      <td>0.564152</td>\n",
              "      <td>0.75</td>\n",
              "      <td>0.135388</td>\n",
              "    </tr>\n",
              "    <tr>\n",
              "      <th>7</th>\n",
              "      <td>0.978492</td>\n",
              "      <td>-1.031938</td>\n",
              "      <td>-0.75</td>\n",
              "      <td>-1.171700</td>\n",
              "      <td>-0.50</td>\n",
              "      <td>-0.767199</td>\n",
              "    </tr>\n",
              "    <tr>\n",
              "      <th>8</th>\n",
              "      <td>-0.326164</td>\n",
              "      <td>1.140563</td>\n",
              "      <td>1.75</td>\n",
              "      <td>-1.171700</td>\n",
              "      <td>-0.50</td>\n",
              "      <td>0.135388</td>\n",
              "    </tr>\n",
              "    <tr>\n",
              "      <th>9</th>\n",
              "      <td>0.978492</td>\n",
              "      <td>0.054313</td>\n",
              "      <td>-0.75</td>\n",
              "      <td>-0.303774</td>\n",
              "      <td>-0.50</td>\n",
              "      <td>-0.767199</td>\n",
              "    </tr>\n",
              "    <tr>\n",
              "      <th>10</th>\n",
              "      <td>-1.630820</td>\n",
              "      <td>-2.118189</td>\n",
              "      <td>-0.75</td>\n",
              "      <td>-1.171700</td>\n",
              "      <td>-1.75</td>\n",
              "      <td>-1.669787</td>\n",
              "    </tr>\n",
              "    <tr>\n",
              "      <th>11</th>\n",
              "      <td>-0.326164</td>\n",
              "      <td>1.140563</td>\n",
              "      <td>-0.75</td>\n",
              "      <td>-1.171700</td>\n",
              "      <td>-0.50</td>\n",
              "      <td>0.135388</td>\n",
              "    </tr>\n",
              "    <tr>\n",
              "      <th>12</th>\n",
              "      <td>-0.326164</td>\n",
              "      <td>-1.031938</td>\n",
              "      <td>-0.75</td>\n",
              "      <td>0.564152</td>\n",
              "      <td>0.75</td>\n",
              "      <td>1.940563</td>\n",
              "    </tr>\n",
              "    <tr>\n",
              "      <th>13</th>\n",
              "      <td>-0.326164</td>\n",
              "      <td>0.054313</td>\n",
              "      <td>0.50</td>\n",
              "      <td>1.432078</td>\n",
              "      <td>-0.50</td>\n",
              "      <td>-0.767199</td>\n",
              "    </tr>\n",
              "    <tr>\n",
              "      <th>14</th>\n",
              "      <td>-1.630820</td>\n",
              "      <td>-1.031938</td>\n",
              "      <td>-2.00</td>\n",
              "      <td>-1.171700</td>\n",
              "      <td>-1.75</td>\n",
              "      <td>0.135388</td>\n",
              "    </tr>\n",
              "    <tr>\n",
              "      <th>15</th>\n",
              "      <td>0.978492</td>\n",
              "      <td>0.054313</td>\n",
              "      <td>0.50</td>\n",
              "      <td>1.432078</td>\n",
              "      <td>2.00</td>\n",
              "      <td>0.135388</td>\n",
              "    </tr>\n",
              "    <tr>\n",
              "      <th>16</th>\n",
              "      <td>-1.630820</td>\n",
              "      <td>0.054313</td>\n",
              "      <td>1.75</td>\n",
              "      <td>-1.171700</td>\n",
              "      <td>2.00</td>\n",
              "      <td>-0.767199</td>\n",
              "    </tr>\n",
              "    <tr>\n",
              "      <th>17</th>\n",
              "      <td>2.283148</td>\n",
              "      <td>1.140563</td>\n",
              "      <td>0.50</td>\n",
              "      <td>0.564152</td>\n",
              "      <td>0.75</td>\n",
              "      <td>0.135388</td>\n",
              "    </tr>\n",
              "    <tr>\n",
              "      <th>18</th>\n",
              "      <td>-0.326164</td>\n",
              "      <td>0.054313</td>\n",
              "      <td>0.50</td>\n",
              "      <td>-0.303774</td>\n",
              "      <td>0.75</td>\n",
              "      <td>-1.669787</td>\n",
              "    </tr>\n",
              "    <tr>\n",
              "      <th>19</th>\n",
              "      <td>-0.326164</td>\n",
              "      <td>-1.031938</td>\n",
              "      <td>-0.75</td>\n",
              "      <td>1.432078</td>\n",
              "      <td>-0.50</td>\n",
              "      <td>1.037975</td>\n",
              "    </tr>\n",
              "  </tbody>\n",
              "</table>\n",
              "</div>\n",
              "      <button class=\"colab-df-convert\" onclick=\"convertToInteractive('df-f7878da6-707b-4a43-ad1a-7dc15b629312')\"\n",
              "              title=\"Convert this dataframe to an interactive table.\"\n",
              "              style=\"display:none;\">\n",
              "        \n",
              "  <svg xmlns=\"http://www.w3.org/2000/svg\" height=\"24px\"viewBox=\"0 0 24 24\"\n",
              "       width=\"24px\">\n",
              "    <path d=\"M0 0h24v24H0V0z\" fill=\"none\"/>\n",
              "    <path d=\"M18.56 5.44l.94 2.06.94-2.06 2.06-.94-2.06-.94-.94-2.06-.94 2.06-2.06.94zm-11 1L8.5 8.5l.94-2.06 2.06-.94-2.06-.94L8.5 2.5l-.94 2.06-2.06.94zm10 10l.94 2.06.94-2.06 2.06-.94-2.06-.94-.94-2.06-.94 2.06-2.06.94z\"/><path d=\"M17.41 7.96l-1.37-1.37c-.4-.4-.92-.59-1.43-.59-.52 0-1.04.2-1.43.59L10.3 9.45l-7.72 7.72c-.78.78-.78 2.05 0 2.83L4 21.41c.39.39.9.59 1.41.59.51 0 1.02-.2 1.41-.59l7.78-7.78 2.81-2.81c.8-.78.8-2.07 0-2.86zM5.41 20L4 18.59l7.72-7.72 1.47 1.35L5.41 20z\"/>\n",
              "  </svg>\n",
              "      </button>\n",
              "      \n",
              "  <style>\n",
              "    .colab-df-container {\n",
              "      display:flex;\n",
              "      flex-wrap:wrap;\n",
              "      gap: 12px;\n",
              "    }\n",
              "\n",
              "    .colab-df-convert {\n",
              "      background-color: #E8F0FE;\n",
              "      border: none;\n",
              "      border-radius: 50%;\n",
              "      cursor: pointer;\n",
              "      display: none;\n",
              "      fill: #1967D2;\n",
              "      height: 32px;\n",
              "      padding: 0 0 0 0;\n",
              "      width: 32px;\n",
              "    }\n",
              "\n",
              "    .colab-df-convert:hover {\n",
              "      background-color: #E2EBFA;\n",
              "      box-shadow: 0px 1px 2px rgba(60, 64, 67, 0.3), 0px 1px 3px 1px rgba(60, 64, 67, 0.15);\n",
              "      fill: #174EA6;\n",
              "    }\n",
              "\n",
              "    [theme=dark] .colab-df-convert {\n",
              "      background-color: #3B4455;\n",
              "      fill: #D2E3FC;\n",
              "    }\n",
              "\n",
              "    [theme=dark] .colab-df-convert:hover {\n",
              "      background-color: #434B5C;\n",
              "      box-shadow: 0px 1px 3px 1px rgba(0, 0, 0, 0.15);\n",
              "      filter: drop-shadow(0px 1px 2px rgba(0, 0, 0, 0.3));\n",
              "      fill: #FFFFFF;\n",
              "    }\n",
              "  </style>\n",
              "\n",
              "      <script>\n",
              "        const buttonEl =\n",
              "          document.querySelector('#df-f7878da6-707b-4a43-ad1a-7dc15b629312 button.colab-df-convert');\n",
              "        buttonEl.style.display =\n",
              "          google.colab.kernel.accessAllowed ? 'block' : 'none';\n",
              "\n",
              "        async function convertToInteractive(key) {\n",
              "          const element = document.querySelector('#df-f7878da6-707b-4a43-ad1a-7dc15b629312');\n",
              "          const dataTable =\n",
              "            await google.colab.kernel.invokeFunction('convertToInteractive',\n",
              "                                                     [key], {});\n",
              "          if (!dataTable) return;\n",
              "\n",
              "          const docLinkHtml = 'Like what you see? Visit the ' +\n",
              "            '<a target=\"_blank\" href=https://colab.research.google.com/notebooks/data_table.ipynb>data table notebook</a>'\n",
              "            + ' to learn more about interactive tables.';\n",
              "          element.innerHTML = '';\n",
              "          dataTable['output_type'] = 'display_data';\n",
              "          await google.colab.output.renderOutput(dataTable, element);\n",
              "          const docLink = document.createElement('div');\n",
              "          docLink.innerHTML = docLinkHtml;\n",
              "          element.appendChild(docLink);\n",
              "        }\n",
              "      </script>\n",
              "    </div>\n",
              "  </div>\n",
              "  "
            ]
          },
          "metadata": {},
          "execution_count": 9
        }
      ],
      "source": [
        "#Normalizamos los datos para que ....\n",
        "from sklearn.preprocessing import StandardScaler\n",
        "ss = StandardScaler()\n",
        "data_transformed = ss.fit_transform(data)\n",
        "data_transformed = pd.DataFrame(data = data_transformed, \n",
        "                        columns = [\"PS\",\t\"Ataque\",\t\"Defensa\",\t\"Ataque especial\",\t\"Defensa especial\",\t\"Velocidad\"])\n",
        "data_transformed\n",
        "\n"
      ]
    },
    {
      "cell_type": "markdown",
      "metadata": {
        "id": "fNQNFBhheUc9"
      },
      "source": [
        "Una vez estan Normalizados los datos podemos proceder a calcular la matriz de correlacion y covarianza. Calculamos las dos ya que dependiendo de como esten estandarizados nuestros datos usaremos la mariz de correlacion o la de covarinza. Usamos la funcion de pandas cov y corr para calcular dichas matrices."
      ]
    },
    {
      "cell_type": "code",
      "execution_count": 10,
      "metadata": {
        "colab": {
          "base_uri": "https://localhost:8080/",
          "height": 237
        },
        "id": "hwhlb_igixXS",
        "outputId": "71efe973-de59-4d39-de51-b9be3954949c"
      },
      "outputs": [
        {
          "output_type": "execute_result",
          "data": {
            "text/plain": [
              "                        PS    Ataque   Defensa  Ataque especial  \\\n",
              "PS                1.052632  0.466179  0.085833         0.491676   \n",
              "Ataque            0.466179  1.052632  0.543125         0.166228   \n",
              "Defensa           0.085833  0.543125  1.052632         0.102781   \n",
              "Ataque especial   0.491676  0.166228  0.102781         1.052632   \n",
              "Defensa especial  0.429163  0.385905  0.509868         0.411123   \n",
              "Velocidad         0.232414  0.250269 -0.249399         0.496827   \n",
              "\n",
              "                  Defensa especial  Velocidad  \n",
              "PS                        0.429163   0.232414  \n",
              "Ataque                    0.385905   0.250269  \n",
              "Defensa                   0.509868  -0.249399  \n",
              "Ataque especial           0.411123   0.496827  \n",
              "Defensa especial          1.052632   0.190018  \n",
              "Velocidad                 0.190018   1.052632  "
            ],
            "text/html": [
              "\n",
              "  <div id=\"df-3ef2980b-2212-4611-b16b-3ec2cba2bce5\">\n",
              "    <div class=\"colab-df-container\">\n",
              "      <div>\n",
              "<style scoped>\n",
              "    .dataframe tbody tr th:only-of-type {\n",
              "        vertical-align: middle;\n",
              "    }\n",
              "\n",
              "    .dataframe tbody tr th {\n",
              "        vertical-align: top;\n",
              "    }\n",
              "\n",
              "    .dataframe thead th {\n",
              "        text-align: right;\n",
              "    }\n",
              "</style>\n",
              "<table border=\"1\" class=\"dataframe\">\n",
              "  <thead>\n",
              "    <tr style=\"text-align: right;\">\n",
              "      <th></th>\n",
              "      <th>PS</th>\n",
              "      <th>Ataque</th>\n",
              "      <th>Defensa</th>\n",
              "      <th>Ataque especial</th>\n",
              "      <th>Defensa especial</th>\n",
              "      <th>Velocidad</th>\n",
              "    </tr>\n",
              "  </thead>\n",
              "  <tbody>\n",
              "    <tr>\n",
              "      <th>PS</th>\n",
              "      <td>1.052632</td>\n",
              "      <td>0.466179</td>\n",
              "      <td>0.085833</td>\n",
              "      <td>0.491676</td>\n",
              "      <td>0.429163</td>\n",
              "      <td>0.232414</td>\n",
              "    </tr>\n",
              "    <tr>\n",
              "      <th>Ataque</th>\n",
              "      <td>0.466179</td>\n",
              "      <td>1.052632</td>\n",
              "      <td>0.543125</td>\n",
              "      <td>0.166228</td>\n",
              "      <td>0.385905</td>\n",
              "      <td>0.250269</td>\n",
              "    </tr>\n",
              "    <tr>\n",
              "      <th>Defensa</th>\n",
              "      <td>0.085833</td>\n",
              "      <td>0.543125</td>\n",
              "      <td>1.052632</td>\n",
              "      <td>0.102781</td>\n",
              "      <td>0.509868</td>\n",
              "      <td>-0.249399</td>\n",
              "    </tr>\n",
              "    <tr>\n",
              "      <th>Ataque especial</th>\n",
              "      <td>0.491676</td>\n",
              "      <td>0.166228</td>\n",
              "      <td>0.102781</td>\n",
              "      <td>1.052632</td>\n",
              "      <td>0.411123</td>\n",
              "      <td>0.496827</td>\n",
              "    </tr>\n",
              "    <tr>\n",
              "      <th>Defensa especial</th>\n",
              "      <td>0.429163</td>\n",
              "      <td>0.385905</td>\n",
              "      <td>0.509868</td>\n",
              "      <td>0.411123</td>\n",
              "      <td>1.052632</td>\n",
              "      <td>0.190018</td>\n",
              "    </tr>\n",
              "    <tr>\n",
              "      <th>Velocidad</th>\n",
              "      <td>0.232414</td>\n",
              "      <td>0.250269</td>\n",
              "      <td>-0.249399</td>\n",
              "      <td>0.496827</td>\n",
              "      <td>0.190018</td>\n",
              "      <td>1.052632</td>\n",
              "    </tr>\n",
              "  </tbody>\n",
              "</table>\n",
              "</div>\n",
              "      <button class=\"colab-df-convert\" onclick=\"convertToInteractive('df-3ef2980b-2212-4611-b16b-3ec2cba2bce5')\"\n",
              "              title=\"Convert this dataframe to an interactive table.\"\n",
              "              style=\"display:none;\">\n",
              "        \n",
              "  <svg xmlns=\"http://www.w3.org/2000/svg\" height=\"24px\"viewBox=\"0 0 24 24\"\n",
              "       width=\"24px\">\n",
              "    <path d=\"M0 0h24v24H0V0z\" fill=\"none\"/>\n",
              "    <path d=\"M18.56 5.44l.94 2.06.94-2.06 2.06-.94-2.06-.94-.94-2.06-.94 2.06-2.06.94zm-11 1L8.5 8.5l.94-2.06 2.06-.94-2.06-.94L8.5 2.5l-.94 2.06-2.06.94zm10 10l.94 2.06.94-2.06 2.06-.94-2.06-.94-.94-2.06-.94 2.06-2.06.94z\"/><path d=\"M17.41 7.96l-1.37-1.37c-.4-.4-.92-.59-1.43-.59-.52 0-1.04.2-1.43.59L10.3 9.45l-7.72 7.72c-.78.78-.78 2.05 0 2.83L4 21.41c.39.39.9.59 1.41.59.51 0 1.02-.2 1.41-.59l7.78-7.78 2.81-2.81c.8-.78.8-2.07 0-2.86zM5.41 20L4 18.59l7.72-7.72 1.47 1.35L5.41 20z\"/>\n",
              "  </svg>\n",
              "      </button>\n",
              "      \n",
              "  <style>\n",
              "    .colab-df-container {\n",
              "      display:flex;\n",
              "      flex-wrap:wrap;\n",
              "      gap: 12px;\n",
              "    }\n",
              "\n",
              "    .colab-df-convert {\n",
              "      background-color: #E8F0FE;\n",
              "      border: none;\n",
              "      border-radius: 50%;\n",
              "      cursor: pointer;\n",
              "      display: none;\n",
              "      fill: #1967D2;\n",
              "      height: 32px;\n",
              "      padding: 0 0 0 0;\n",
              "      width: 32px;\n",
              "    }\n",
              "\n",
              "    .colab-df-convert:hover {\n",
              "      background-color: #E2EBFA;\n",
              "      box-shadow: 0px 1px 2px rgba(60, 64, 67, 0.3), 0px 1px 3px 1px rgba(60, 64, 67, 0.15);\n",
              "      fill: #174EA6;\n",
              "    }\n",
              "\n",
              "    [theme=dark] .colab-df-convert {\n",
              "      background-color: #3B4455;\n",
              "      fill: #D2E3FC;\n",
              "    }\n",
              "\n",
              "    [theme=dark] .colab-df-convert:hover {\n",
              "      background-color: #434B5C;\n",
              "      box-shadow: 0px 1px 3px 1px rgba(0, 0, 0, 0.15);\n",
              "      filter: drop-shadow(0px 1px 2px rgba(0, 0, 0, 0.3));\n",
              "      fill: #FFFFFF;\n",
              "    }\n",
              "  </style>\n",
              "\n",
              "      <script>\n",
              "        const buttonEl =\n",
              "          document.querySelector('#df-3ef2980b-2212-4611-b16b-3ec2cba2bce5 button.colab-df-convert');\n",
              "        buttonEl.style.display =\n",
              "          google.colab.kernel.accessAllowed ? 'block' : 'none';\n",
              "\n",
              "        async function convertToInteractive(key) {\n",
              "          const element = document.querySelector('#df-3ef2980b-2212-4611-b16b-3ec2cba2bce5');\n",
              "          const dataTable =\n",
              "            await google.colab.kernel.invokeFunction('convertToInteractive',\n",
              "                                                     [key], {});\n",
              "          if (!dataTable) return;\n",
              "\n",
              "          const docLinkHtml = 'Like what you see? Visit the ' +\n",
              "            '<a target=\"_blank\" href=https://colab.research.google.com/notebooks/data_table.ipynb>data table notebook</a>'\n",
              "            + ' to learn more about interactive tables.';\n",
              "          element.innerHTML = '';\n",
              "          dataTable['output_type'] = 'display_data';\n",
              "          await google.colab.output.renderOutput(dataTable, element);\n",
              "          const docLink = document.createElement('div');\n",
              "          docLink.innerHTML = docLinkHtml;\n",
              "          element.appendChild(docLink);\n",
              "        }\n",
              "      </script>\n",
              "    </div>\n",
              "  </div>\n",
              "  "
            ]
          },
          "metadata": {},
          "execution_count": 10
        }
      ],
      "source": [
        "data_cov=data_transformed.cov()\n",
        "data_cov"
      ]
    },
    {
      "cell_type": "code",
      "execution_count": 11,
      "metadata": {
        "colab": {
          "base_uri": "https://localhost:8080/",
          "height": 357
        },
        "id": "JeouQJXTTUPH",
        "outputId": "8533c9fc-c55c-4f2e-f135-b12a3fb0c893"
      },
      "outputs": [
        {
          "output_type": "display_data",
          "data": {
            "text/plain": [
              "<Figure size 432x288 with 2 Axes>"
            ],
            "image/png": "[encoded data removed]"
          },
          "metadata": {
            "needs_background": "light"
          }
        }
      ],
      "source": [
        "ax = plt.axes()\n",
        "sns.heatmap(data_transformed.cov(),vmin=-1, vmax=1, annot=True);\n",
        "ax.set_title('Covarianza',weight='bold')\n",
        "plt.show()"
      ]
    },
    {
      "cell_type": "markdown",
      "metadata": {
        "id": "3QPb3Ce7rsq_"
      },
      "source": [
        "En el mapa de calor observamos que las variables ataque y defensa son las que mas relacionadas estan ente si con un valor de 0.54. Esto quiere decir que la relacion entre estas dos variables es alta o lo que es lo mismo un pokemon con mucho ataque tendra mucha defensa. \n",
        "\n",
        "Ademas vemos que con la matriz de covarinza no es uno en la diagonal y que la suma de los autovalores no es igual al numero de variables que tenemos, 6. No obstante se acerca a ambos valores asi que tenemos que comparalo con la matriz de correlacion para ver si esta es mas optima.  \n",
        "\n",
        "\n",
        "\n",
        "**COMPARAR SUMA DE AUTOVALORES**"
      ]
    },
    {
      "cell_type": "code",
      "execution_count": 12,
      "metadata": {
        "colab": {
          "base_uri": "https://localhost:8080/"
        },
        "id": "KDmDelzsvKzO",
        "outputId": "6f3b7bd4-cb87-4bfb-bd98-7e31a8d1907e"
      },
      "outputs": [
        {
          "output_type": "stream",
          "name": "stdout",
          "text": [
            "Los autovalores de la matriz de covarianza son:\n",
            "\n",
            "[2.62997944 1.55066147 0.16420572 0.47459774 0.71552145 0.78082366]\n",
            "\n",
            "El autovector de la matriz de covarianza son:\n",
            "\n",
            "[[ 0.45454125  0.15847313  0.37672419 -0.07820604  0.78451794  0.06908557]\n",
            " [ 0.45072878 -0.25198079 -0.491921    0.1067326  -0.02435867  0.69237113]\n",
            " [ 0.31882326 -0.63200759  0.5475605   0.33202671 -0.277256   -0.10946693]\n",
            " [ 0.42331653  0.38227978 -0.30437481  0.61163075 -0.07575687 -0.4496554 ]\n",
            " [ 0.48098891 -0.16852151 -0.23006595 -0.68447289 -0.16380914 -0.43815894]\n",
            " [ 0.27935701  0.58087953  0.41315342 -0.17220602 -0.52392254  0.33119957]]\n"
          ]
        }
      ],
      "source": [
        "from numpy import linalg\n",
        "autoval_cov, autovec_cov= np.linalg.eig(data_cov)\n",
        "print(\"Los autovalores de la matriz de covarianza son:\\n\")\n",
        "print(autoval_cov)\n",
        "print(\"\\nEl autovector de la matriz de covarianza son:\\n\")\n",
        "print(autovec_cov)"
      ]
    },
    {
      "cell_type": "code",
      "execution_count": 13,
      "metadata": {
        "colab": {
          "base_uri": "https://localhost:8080/",
          "height": 237
        },
        "id": "2UN4h1KkxmWj",
        "outputId": "a23f166f-4f47-481a-a256-9dc7ca8a330a"
      },
      "outputs": [
        {
          "output_type": "execute_result",
          "data": {
            "text/plain": [
              "                        PS    Ataque   Defensa  Ataque especial  \\\n",
              "PS                1.000000  0.442870  0.081541         0.467092   \n",
              "Ataque            0.442870  1.000000  0.515969         0.157917   \n",
              "Defensa           0.081541  0.515969  1.000000         0.097642   \n",
              "Ataque especial   0.467092  0.157917  0.097642         1.000000   \n",
              "Defensa especial  0.407705  0.366610  0.484375         0.390567   \n",
              "Velocidad         0.220794  0.237756 -0.236929         0.471986   \n",
              "\n",
              "                  Defensa especial  Velocidad  \n",
              "PS                        0.407705   0.220794  \n",
              "Ataque                    0.366610   0.237756  \n",
              "Defensa                   0.484375  -0.236929  \n",
              "Ataque especial           0.390567   0.471986  \n",
              "Defensa especial          1.000000   0.180517  \n",
              "Velocidad                 0.180517   1.000000  "
            ],
            "text/html": [
              "\n",
              "  <div id=\"df-aa741e7f-987c-4de9-bac9-8449a587a39d\">\n",
              "    <div class=\"colab-df-container\">\n",
              "      <div>\n",
              "<style scoped>\n",
              "    .dataframe tbody tr th:only-of-type {\n",
              "        vertical-align: middle;\n",
              "    }\n",
              "\n",
              "    .dataframe tbody tr th {\n",
              "        vertical-align: top;\n",
              "    }\n",
              "\n",
              "    .dataframe thead th {\n",
              "        text-align: right;\n",
              "    }\n",
              "</style>\n",
              "<table border=\"1\" class=\"dataframe\">\n",
              "  <thead>\n",
              "    <tr style=\"text-align: right;\">\n",
              "      <th></th>\n",
              "      <th>PS</th>\n",
              "      <th>Ataque</th>\n",
              "      <th>Defensa</th>\n",
              "      <th>Ataque especial</th>\n",
              "      <th>Defensa especial</th>\n",
              "      <th>Velocidad</th>\n",
              "    </tr>\n",
              "  </thead>\n",
              "  <tbody>\n",
              "    <tr>\n",
              "      <th>PS</th>\n",
              "      <td>1.000000</td>\n",
              "      <td>0.442870</td>\n",
              "      <td>0.081541</td>\n",
              "      <td>0.467092</td>\n",
              "      <td>0.407705</td>\n",
              "      <td>0.220794</td>\n",
              "    </tr>\n",
              "    <tr>\n",
              "      <th>Ataque</th>\n",
              "      <td>0.442870</td>\n",
              "      <td>1.000000</td>\n",
              "      <td>0.515969</td>\n",
              "      <td>0.157917</td>\n",
              "      <td>0.366610</td>\n",
              "      <td>0.237756</td>\n",
              "    </tr>\n",
              "    <tr>\n",
              "      <th>Defensa</th>\n",
              "      <td>0.081541</td>\n",
              "      <td>0.515969</td>\n",
              "      <td>1.000000</td>\n",
              "      <td>0.097642</td>\n",
              "      <td>0.484375</td>\n",
              "      <td>-0.236929</td>\n",
              "    </tr>\n",
              "    <tr>\n",
              "      <th>Ataque especial</th>\n",
              "      <td>0.467092</td>\n",
              "      <td>0.157917</td>\n",
              "      <td>0.097642</td>\n",
              "      <td>1.000000</td>\n",
              "      <td>0.390567</td>\n",
              "      <td>0.471986</td>\n",
              "    </tr>\n",
              "    <tr>\n",
              "      <th>Defensa especial</th>\n",
              "      <td>0.407705</td>\n",
              "      <td>0.366610</td>\n",
              "      <td>0.484375</td>\n",
              "      <td>0.390567</td>\n",
              "      <td>1.000000</td>\n",
              "      <td>0.180517</td>\n",
              "    </tr>\n",
              "    <tr>\n",
              "      <th>Velocidad</th>\n",
              "      <td>0.220794</td>\n",
              "      <td>0.237756</td>\n",
              "      <td>-0.236929</td>\n",
              "      <td>0.471986</td>\n",
              "      <td>0.180517</td>\n",
              "      <td>1.000000</td>\n",
              "    </tr>\n",
              "  </tbody>\n",
              "</table>\n",
              "</div>\n",
              "      <button class=\"colab-df-convert\" onclick=\"convertToInteractive('df-aa741e7f-987c-4de9-bac9-8449a587a39d')\"\n",
              "              title=\"Convert this dataframe to an interactive table.\"\n",
              "              style=\"display:none;\">\n",
              "        \n",
              "  <svg xmlns=\"http://www.w3.org/2000/svg\" height=\"24px\"viewBox=\"0 0 24 24\"\n",
              "       width=\"24px\">\n",
              "    <path d=\"M0 0h24v24H0V0z\" fill=\"none\"/>\n",
              "    <path d=\"M18.56 5.44l.94 2.06.94-2.06 2.06-.94-2.06-.94-.94-2.06-.94 2.06-2.06.94zm-11 1L8.5 8.5l.94-2.06 2.06-.94-2.06-.94L8.5 2.5l-.94 2.06-2.06.94zm10 10l.94 2.06.94-2.06 2.06-.94-2.06-.94-.94-2.06-.94 2.06-2.06.94z\"/><path d=\"M17.41 7.96l-1.37-1.37c-.4-.4-.92-.59-1.43-.59-.52 0-1.04.2-1.43.59L10.3 9.45l-7.72 7.72c-.78.78-.78 2.05 0 2.83L4 21.41c.39.39.9.59 1.41.59.51 0 1.02-.2 1.41-.59l7.78-7.78 2.81-2.81c.8-.78.8-2.07 0-2.86zM5.41 20L4 18.59l7.72-7.72 1.47 1.35L5.41 20z\"/>\n",
              "  </svg>\n",
              "      </button>\n",
              "      \n",
              "  <style>\n",
              "    .colab-df-container {\n",
              "      display:flex;\n",
              "      flex-wrap:wrap;\n",
              "      gap: 12px;\n",
              "    }\n",
              "\n",
              "    .colab-df-convert {\n",
              "      background-color: #E8F0FE;\n",
              "      border: none;\n",
              "      border-radius: 50%;\n",
              "      cursor: pointer;\n",
              "      display: none;\n",
              "      fill: #1967D2;\n",
              "      height: 32px;\n",
              "      padding: 0 0 0 0;\n",
              "      width: 32px;\n",
              "    }\n",
              "\n",
              "    .colab-df-convert:hover {\n",
              "      background-color: #E2EBFA;\n",
              "      box-shadow: 0px 1px 2px rgba(60, 64, 67, 0.3), 0px 1px 3px 1px rgba(60, 64, 67, 0.15);\n",
              "      fill: #174EA6;\n",
              "    }\n",
              "\n",
              "    [theme=dark] .colab-df-convert {\n",
              "      background-color: #3B4455;\n",
              "      fill: #D2E3FC;\n",
              "    }\n",
              "\n",
              "    [theme=dark] .colab-df-convert:hover {\n",
              "      background-color: #434B5C;\n",
              "      box-shadow: 0px 1px 3px 1px rgba(0, 0, 0, 0.15);\n",
              "      filter: drop-shadow(0px 1px 2px rgba(0, 0, 0, 0.3));\n",
              "      fill: #FFFFFF;\n",
              "    }\n",
              "  </style>\n",
              "\n",
              "      <script>\n",
              "        const buttonEl =\n",
              "          document.querySelector('#df-aa741e7f-987c-4de9-bac9-8449a587a39d button.colab-df-convert');\n",
              "        buttonEl.style.display =\n",
              "          google.colab.kernel.accessAllowed ? 'block' : 'none';\n",
              "\n",
              "        async function convertToInteractive(key) {\n",
              "          const element = document.querySelector('#df-aa741e7f-987c-4de9-bac9-8449a587a39d');\n",
              "          const dataTable =\n",
              "            await google.colab.kernel.invokeFunction('convertToInteractive',\n",
              "                                                     [key], {});\n",
              "          if (!dataTable) return;\n",
              "\n",
              "          const docLinkHtml = 'Like what you see? Visit the ' +\n",
              "            '<a target=\"_blank\" href=https://colab.research.google.com/notebooks/data_table.ipynb>data table notebook</a>'\n",
              "            + ' to learn more about interactive tables.';\n",
              "          element.innerHTML = '';\n",
              "          dataTable['output_type'] = 'display_data';\n",
              "          await google.colab.output.renderOutput(dataTable, element);\n",
              "          const docLink = document.createElement('div');\n",
              "          docLink.innerHTML = docLinkHtml;\n",
              "          element.appendChild(docLink);\n",
              "        }\n",
              "      </script>\n",
              "    </div>\n",
              "  </div>\n",
              "  "
            ]
          },
          "metadata": {},
          "execution_count": 13
        }
      ],
      "source": [
        "data_corr=data_transformed.corr()\n",
        "data_corr"
      ]
    },
    {
      "cell_type": "markdown",
      "metadata": {
        "id": "ymU-NTOPoH-q"
      },
      "source": [
        "Para visualizar mejor como se correlacionan los datos vamos a usar la libreria seaborn para crear un mapa de calor y ver asi calarmente que variables estan mas correlacionadas entre si."
      ]
    },
    {
      "cell_type": "code",
      "execution_count": 14,
      "metadata": {
        "colab": {
          "base_uri": "https://localhost:8080/",
          "height": 357
        },
        "id": "hxKhP2pKoHYA",
        "outputId": "02014de9-c483-42ef-d372-a575c44a3d21"
      },
      "outputs": [
        {
          "output_type": "display_data",
          "data": {
            "text/plain": [
              "<Figure size 432x288 with 2 Axes>"
            ],
            "image/png": "[encoded data removed]"
          },
          "metadata": {
            "needs_background": "light"
          }
        }
      ],
      "source": [
        "ax = plt.axes()\n",
        "sns.heatmap(data_transformed.corr(),vmin=-1, vmax=1, annot=True);\n",
        "ax.set_title('Correlacion',weight='bold')\n",
        "plt.show()"
      ]
    },
    {
      "cell_type": "markdown",
      "metadata": {
        "id": "7lL4-1T6oiMI"
      },
      "source": [
        "En el mapa de calor se puede visualizar claramente que variables como ataque y defensa estan mas relacionadas entre si que por ejemplo velocidad y defensa que claramente no tienen apenas relacion."
      ]
    },
    {
      "cell_type": "markdown",
      "metadata": {
        "id": "zQ3JcaNHm2sF"
      },
      "source": [
        "Usamos la funcion linalg.eig de numpy para obtener los autovalores y autovectores de nuestra matriz de correlacion. Estos valores son los que nos indicaran con cuantos componentes quedarnos."
      ]
    },
    {
      "cell_type": "code",
      "execution_count": 15,
      "metadata": {
        "colab": {
          "base_uri": "https://localhost:8080/"
        },
        "id": "saJfjMZCm1my",
        "outputId": "3dcf3626-3b18-408d-ca05-a1beb26ea3ab"
      },
      "outputs": [
        {
          "output_type": "stream",
          "name": "stdout",
          "text": [
            "Los autovalores son\n",
            "[2.49848047 1.4731284  0.15599543 0.45086785 0.67974537 0.74178248]\n",
            "Los autovectores son\n",
            "[[ 0.45454125  0.15847313  0.37672419 -0.07820604  0.78451794  0.06908557]\n",
            " [ 0.45072878 -0.25198079 -0.491921    0.1067326  -0.02435867  0.69237113]\n",
            " [ 0.31882326 -0.63200759  0.5475605   0.33202671 -0.277256   -0.10946693]\n",
            " [ 0.42331653  0.38227978 -0.30437481  0.61163075 -0.07575687 -0.4496554 ]\n",
            " [ 0.48098891 -0.16852151 -0.23006595 -0.68447289 -0.16380914 -0.43815894]\n",
            " [ 0.27935701  0.58087953  0.41315342 -0.17220602 -0.52392254  0.33119957]]\n"
          ]
        }
      ],
      "source": [
        "from numpy import linalg\n",
        "autoval, autovec= np.linalg.eig(data_corr)\n",
        "print(\"Los autovalores son\")\n",
        "print(autoval)\n",
        "print(\"Los autovectores son\")\n",
        "print(autovec)"
      ]
    },
    {
      "cell_type": "markdown",
      "metadata": {
        "id": "FJA0_VnWth8N"
      },
      "source": [
        "Visualizemos cuanto porciento de nuestros datos representa cada autovalor. Esto se calcula dividiendo cada autovalor por el total de la suma de autovalores.\n",
        "\n",
        "Ademas comprobaremos que este calculo sea correcto ya que la suma de dichos portentajes ha de dar 1."
      ]
    },
    {
      "cell_type": "code",
      "execution_count": 16,
      "metadata": {
        "colab": {
          "base_uri": "https://localhost:8080/"
        },
        "id": "0h1SOj2dtg9Y",
        "outputId": "6071ffe7-7248-48e8-89a1-7d25ed92a3b9"
      },
      "outputs": [
        {
          "output_type": "stream",
          "name": "stdout",
          "text": [
            "Porcentaje de Varianza de cada componente: \n",
            " [0.41641341 0.2455214  0.02599924 0.07514464 0.1132909  0.12363041]\n",
            "Suma de los porcentajes\n"
          ]
        },
        {
          "output_type": "execute_result",
          "data": {
            "text/plain": [
              "(None, 1.0000000000000002)"
            ]
          },
          "metadata": {},
          "execution_count": 16
        }
      ],
      "source": [
        "comp= autoval/len(autoval)\n",
        "\n",
        "print(\"Porcentaje de Varianza de cada componente: \\n\", comp)\n",
        "\n",
        "print(\"Suma de los porcentajes\"), sum(autoval/sum(autoval))"
      ]
    },
    {
      "cell_type": "markdown",
      "metadata": {
        "id": "z8RNDsxD9zUT"
      },
      "source": [
        "Ordenamos las varianzas en orden descendiente para evaluar las componentes mas significativas."
      ]
    },
    {
      "cell_type": "code",
      "execution_count": 17,
      "metadata": {
        "colab": {
          "base_uri": "https://localhost:8080/",
          "height": 237
        },
        "id": "yRRfgDdD-Ggz",
        "outputId": "b50a8c27-9eaa-47a3-c914-b9f5410f5db7"
      },
      "outputs": [
        {
          "output_type": "execute_result",
          "data": {
            "text/plain": [
              "              Varianza cada componente\n",
              "Componente 1                  0.416413\n",
              "Componente 2                  0.245521\n",
              "Componente 6                  0.123630\n",
              "Componente 5                  0.113291\n",
              "Componente 4                  0.075145\n",
              "Componente 3                  0.025999"
            ],
            "text/html": [
              "\n",
              "  <div id=\"df-07c8f61b-2ee9-4799-9095-f5f55081b3c4\">\n",
              "    <div class=\"colab-df-container\">\n",
              "      <div>\n",
              "<style scoped>\n",
              "    .dataframe tbody tr th:only-of-type {\n",
              "        vertical-align: middle;\n",
              "    }\n",
              "\n",
              "    .dataframe tbody tr th {\n",
              "        vertical-align: top;\n",
              "    }\n",
              "\n",
              "    .dataframe thead th {\n",
              "        text-align: right;\n",
              "    }\n",
              "</style>\n",
              "<table border=\"1\" class=\"dataframe\">\n",
              "  <thead>\n",
              "    <tr style=\"text-align: right;\">\n",
              "      <th></th>\n",
              "      <th>Varianza cada componente</th>\n",
              "    </tr>\n",
              "  </thead>\n",
              "  <tbody>\n",
              "    <tr>\n",
              "      <th>Componente 1</th>\n",
              "      <td>0.416413</td>\n",
              "    </tr>\n",
              "    <tr>\n",
              "      <th>Componente 2</th>\n",
              "      <td>0.245521</td>\n",
              "    </tr>\n",
              "    <tr>\n",
              "      <th>Componente 6</th>\n",
              "      <td>0.123630</td>\n",
              "    </tr>\n",
              "    <tr>\n",
              "      <th>Componente 5</th>\n",
              "      <td>0.113291</td>\n",
              "    </tr>\n",
              "    <tr>\n",
              "      <th>Componente 4</th>\n",
              "      <td>0.075145</td>\n",
              "    </tr>\n",
              "    <tr>\n",
              "      <th>Componente 3</th>\n",
              "      <td>0.025999</td>\n",
              "    </tr>\n",
              "  </tbody>\n",
              "</table>\n",
              "</div>\n",
              "      <button class=\"colab-df-convert\" onclick=\"convertToInteractive('df-07c8f61b-2ee9-4799-9095-f5f55081b3c4')\"\n",
              "              title=\"Convert this dataframe to an interactive table.\"\n",
              "              style=\"display:none;\">\n",
              "        \n",
              "  <svg xmlns=\"http://www.w3.org/2000/svg\" height=\"24px\"viewBox=\"0 0 24 24\"\n",
              "       width=\"24px\">\n",
              "    <path d=\"M0 0h24v24H0V0z\" fill=\"none\"/>\n",
              "    <path d=\"M18.56 5.44l.94 2.06.94-2.06 2.06-.94-2.06-.94-.94-2.06-.94 2.06-2.06.94zm-11 1L8.5 8.5l.94-2.06 2.06-.94-2.06-.94L8.5 2.5l-.94 2.06-2.06.94zm10 10l.94 2.06.94-2.06 2.06-.94-2.06-.94-.94-2.06-.94 2.06-2.06.94z\"/><path d=\"M17.41 7.96l-1.37-1.37c-.4-.4-.92-.59-1.43-.59-.52 0-1.04.2-1.43.59L10.3 9.45l-7.72 7.72c-.78.78-.78 2.05 0 2.83L4 21.41c.39.39.9.59 1.41.59.51 0 1.02-.2 1.41-.59l7.78-7.78 2.81-2.81c.8-.78.8-2.07 0-2.86zM5.41 20L4 18.59l7.72-7.72 1.47 1.35L5.41 20z\"/>\n",
              "  </svg>\n",
              "      </button>\n",
              "      \n",
              "  <style>\n",
              "    .colab-df-container {\n",
              "      display:flex;\n",
              "      flex-wrap:wrap;\n",
              "      gap: 12px;\n",
              "    }\n",
              "\n",
              "    .colab-df-convert {\n",
              "      background-color: #E8F0FE;\n",
              "      border: none;\n",
              "      border-radius: 50%;\n",
              "      cursor: pointer;\n",
              "      display: none;\n",
              "      fill: #1967D2;\n",
              "      height: 32px;\n",
              "      padding: 0 0 0 0;\n",
              "      width: 32px;\n",
              "    }\n",
              "\n",
              "    .colab-df-convert:hover {\n",
              "      background-color: #E2EBFA;\n",
              "      box-shadow: 0px 1px 2px rgba(60, 64, 67, 0.3), 0px 1px 3px 1px rgba(60, 64, 67, 0.15);\n",
              "      fill: #174EA6;\n",
              "    }\n",
              "\n",
              "    [theme=dark] .colab-df-convert {\n",
              "      background-color: #3B4455;\n",
              "      fill: #D2E3FC;\n",
              "    }\n",
              "\n",
              "    [theme=dark] .colab-df-convert:hover {\n",
              "      background-color: #434B5C;\n",
              "      box-shadow: 0px 1px 3px 1px rgba(0, 0, 0, 0.15);\n",
              "      filter: drop-shadow(0px 1px 2px rgba(0, 0, 0, 0.3));\n",
              "      fill: #FFFFFF;\n",
              "    }\n",
              "  </style>\n",
              "\n",
              "      <script>\n",
              "        const buttonEl =\n",
              "          document.querySelector('#df-07c8f61b-2ee9-4799-9095-f5f55081b3c4 button.colab-df-convert');\n",
              "        buttonEl.style.display =\n",
              "          google.colab.kernel.accessAllowed ? 'block' : 'none';\n",
              "\n",
              "        async function convertToInteractive(key) {\n",
              "          const element = document.querySelector('#df-07c8f61b-2ee9-4799-9095-f5f55081b3c4');\n",
              "          const dataTable =\n",
              "            await google.colab.kernel.invokeFunction('convertToInteractive',\n",
              "                                                     [key], {});\n",
              "          if (!dataTable) return;\n",
              "\n",
              "          const docLinkHtml = 'Like what you see? Visit the ' +\n",
              "            '<a target=\"_blank\" href=https://colab.research.google.com/notebooks/data_table.ipynb>data table notebook</a>'\n",
              "            + ' to learn more about interactive tables.';\n",
              "          element.innerHTML = '';\n",
              "          dataTable['output_type'] = 'display_data';\n",
              "          await google.colab.output.renderOutput(dataTable, element);\n",
              "          const docLink = document.createElement('div');\n",
              "          docLink.innerHTML = docLinkHtml;\n",
              "          element.appendChild(docLink);\n",
              "        }\n",
              "      </script>\n",
              "    </div>\n",
              "  </div>\n",
              "  "
            ]
          },
          "metadata": {},
          "execution_count": 17
        }
      ],
      "source": [
        "comp_ord=pd.DataFrame(data=comp,  index = ['Componente 1','Componente 2','Componente 3','Componente 4','Componente 5','Componente 6'], columns=['Varianza cada componente'])\n",
        "comp_ord.sort_values('Varianza cada componente',inplace=True)\n",
        "comp_ord[::-1]\n",
        "\n",
        "\n"
      ]
    },
    {
      "cell_type": "code",
      "source": [
        "comp_2=[]\n",
        "comp_aux= comp_ord['Varianza cada componente'].to_numpy()\n",
        "comp_2=comp_aux[::-1]"
      ],
      "metadata": {
        "id": "qIbLMaZkiajj"
      },
      "execution_count": 18,
      "outputs": []
    },
    {
      "cell_type": "code",
      "execution_count": 19,
      "metadata": {
        "colab": {
          "base_uri": "https://localhost:8080/",
          "height": 237
        },
        "id": "NuWdzLBMphVQ",
        "outputId": "2d92f65d-66d9-442a-ab6f-8b8512122e19"
      },
      "outputs": [
        {
          "output_type": "execute_result",
          "data": {
            "text/plain": [
              "              Varianza acumulada\n",
              "Componente 1           41.641341\n",
              "Componente 2           66.193481\n",
              "Componente 3           78.556522\n",
              "Componente 4           89.885612\n",
              "Componente 5           97.400076\n",
              "Componente 6          100.000000"
            ],
            "text/html": [
              "\n",
              "  <div id=\"df-f73ddb3f-84c6-4d8b-8f17-2b64aff1bfff\">\n",
              "    <div class=\"colab-df-container\">\n",
              "      <div>\n",
              "<style scoped>\n",
              "    .dataframe tbody tr th:only-of-type {\n",
              "        vertical-align: middle;\n",
              "    }\n",
              "\n",
              "    .dataframe tbody tr th {\n",
              "        vertical-align: top;\n",
              "    }\n",
              "\n",
              "    .dataframe thead th {\n",
              "        text-align: right;\n",
              "    }\n",
              "</style>\n",
              "<table border=\"1\" class=\"dataframe\">\n",
              "  <thead>\n",
              "    <tr style=\"text-align: right;\">\n",
              "      <th></th>\n",
              "      <th>Varianza acumulada</th>\n",
              "    </tr>\n",
              "  </thead>\n",
              "  <tbody>\n",
              "    <tr>\n",
              "      <th>Componente 1</th>\n",
              "      <td>41.641341</td>\n",
              "    </tr>\n",
              "    <tr>\n",
              "      <th>Componente 2</th>\n",
              "      <td>66.193481</td>\n",
              "    </tr>\n",
              "    <tr>\n",
              "      <th>Componente 3</th>\n",
              "      <td>78.556522</td>\n",
              "    </tr>\n",
              "    <tr>\n",
              "      <th>Componente 4</th>\n",
              "      <td>89.885612</td>\n",
              "    </tr>\n",
              "    <tr>\n",
              "      <th>Componente 5</th>\n",
              "      <td>97.400076</td>\n",
              "    </tr>\n",
              "    <tr>\n",
              "      <th>Componente 6</th>\n",
              "      <td>100.000000</td>\n",
              "    </tr>\n",
              "  </tbody>\n",
              "</table>\n",
              "</div>\n",
              "      <button class=\"colab-df-convert\" onclick=\"convertToInteractive('df-f73ddb3f-84c6-4d8b-8f17-2b64aff1bfff')\"\n",
              "              title=\"Convert this dataframe to an interactive table.\"\n",
              "              style=\"display:none;\">\n",
              "        \n",
              "  <svg xmlns=\"http://www.w3.org/2000/svg\" height=\"24px\"viewBox=\"0 0 24 24\"\n",
              "       width=\"24px\">\n",
              "    <path d=\"M0 0h24v24H0V0z\" fill=\"none\"/>\n",
              "    <path d=\"M18.56 5.44l.94 2.06.94-2.06 2.06-.94-2.06-.94-.94-2.06-.94 2.06-2.06.94zm-11 1L8.5 8.5l.94-2.06 2.06-.94-2.06-.94L8.5 2.5l-.94 2.06-2.06.94zm10 10l.94 2.06.94-2.06 2.06-.94-2.06-.94-.94-2.06-.94 2.06-2.06.94z\"/><path d=\"M17.41 7.96l-1.37-1.37c-.4-.4-.92-.59-1.43-.59-.52 0-1.04.2-1.43.59L10.3 9.45l-7.72 7.72c-.78.78-.78 2.05 0 2.83L4 21.41c.39.39.9.59 1.41.59.51 0 1.02-.2 1.41-.59l7.78-7.78 2.81-2.81c.8-.78.8-2.07 0-2.86zM5.41 20L4 18.59l7.72-7.72 1.47 1.35L5.41 20z\"/>\n",
              "  </svg>\n",
              "      </button>\n",
              "      \n",
              "  <style>\n",
              "    .colab-df-container {\n",
              "      display:flex;\n",
              "      flex-wrap:wrap;\n",
              "      gap: 12px;\n",
              "    }\n",
              "\n",
              "    .colab-df-convert {\n",
              "      background-color: #E8F0FE;\n",
              "      border: none;\n",
              "      border-radius: 50%;\n",
              "      cursor: pointer;\n",
              "      display: none;\n",
              "      fill: #1967D2;\n",
              "      height: 32px;\n",
              "      padding: 0 0 0 0;\n",
              "      width: 32px;\n",
              "    }\n",
              "\n",
              "    .colab-df-convert:hover {\n",
              "      background-color: #E2EBFA;\n",
              "      box-shadow: 0px 1px 2px rgba(60, 64, 67, 0.3), 0px 1px 3px 1px rgba(60, 64, 67, 0.15);\n",
              "      fill: #174EA6;\n",
              "    }\n",
              "\n",
              "    [theme=dark] .colab-df-convert {\n",
              "      background-color: #3B4455;\n",
              "      fill: #D2E3FC;\n",
              "    }\n",
              "\n",
              "    [theme=dark] .colab-df-convert:hover {\n",
              "      background-color: #434B5C;\n",
              "      box-shadow: 0px 1px 3px 1px rgba(0, 0, 0, 0.15);\n",
              "      filter: drop-shadow(0px 1px 2px rgba(0, 0, 0, 0.3));\n",
              "      fill: #FFFFFF;\n",
              "    }\n",
              "  </style>\n",
              "\n",
              "      <script>\n",
              "        const buttonEl =\n",
              "          document.querySelector('#df-f73ddb3f-84c6-4d8b-8f17-2b64aff1bfff button.colab-df-convert');\n",
              "        buttonEl.style.display =\n",
              "          google.colab.kernel.accessAllowed ? 'block' : 'none';\n",
              "\n",
              "        async function convertToInteractive(key) {\n",
              "          const element = document.querySelector('#df-f73ddb3f-84c6-4d8b-8f17-2b64aff1bfff');\n",
              "          const dataTable =\n",
              "            await google.colab.kernel.invokeFunction('convertToInteractive',\n",
              "                                                     [key], {});\n",
              "          if (!dataTable) return;\n",
              "\n",
              "          const docLinkHtml = 'Like what you see? Visit the ' +\n",
              "            '<a target=\"_blank\" href=https://colab.research.google.com/notebooks/data_table.ipynb>data table notebook</a>'\n",
              "            + ' to learn more about interactive tables.';\n",
              "          element.innerHTML = '';\n",
              "          dataTable['output_type'] = 'display_data';\n",
              "          await google.colab.output.renderOutput(dataTable, element);\n",
              "          const docLink = document.createElement('div');\n",
              "          docLink.innerHTML = docLinkHtml;\n",
              "          element.appendChild(docLink);\n",
              "        }\n",
              "      </script>\n",
              "    </div>\n",
              "  </div>\n",
              "  "
            ]
          },
          "metadata": {},
          "execution_count": 19
        }
      ],
      "source": [
        "\n",
        "autovalaux=0\n",
        "autoval_sum=0\n",
        "autoval_acc=[]\n",
        "for i in range(6):\n",
        "    autovalaux = autovalaux + comp_2[i]\n",
        "    autoval_sum = (autovalaux/np.sum(comp))*100\n",
        "    autoval_acc.append(autoval_sum)\n",
        "autoval_acc=pd.DataFrame(data=autoval_acc,  index = ['Componente 1','Componente 2','Componente 3','Componente 4','Componente 5','Componente 6'], columns=['Varianza acumulada'])\n",
        "autoval_acc.sort_values('Varianza acumulada',inplace=True)\n",
        "autoval_acc\n"
      ]
    },
    {
      "cell_type": "code",
      "source": [
        "#Ademas graficamos la varianza acumulada\n",
        "\n",
        "plt.plot(autoval_acc)\n",
        "plt.xlabel('numero de componentes')\n",
        "plt.ylabel('varianza acumulada')\n",
        "plt.show()"
      ],
      "metadata": {
        "colab": {
          "base_uri": "https://localhost:8080/",
          "height": 279
        },
        "id": "EcLuUof7ts3L",
        "outputId": "30950b5f-2944-45c3-db80-fc9d766044fd"
      },
      "execution_count": 20,
      "outputs": [
        {
          "output_type": "display_data",
          "data": {
            "text/plain": [
              "<Figure size 432x288 with 1 Axes>"
            ],
            "image/png": "[encoded data removed]"
          },
          "metadata": {
            "needs_background": "light"
          }
        }
      ]
    },
    {
      "cell_type": "markdown",
      "source": [
        "Podemos observar que la varianza acumulada que con dos componentes representamos el 66% de los datos estando repartidos un 41.6% con la primera componente y 24.5% con la segunda. Esto significa que estamos perdiendo un 44% de los datos, una cantidad signficativa. \n",
        "\n",
        "La terecera componente suma un 13% haciendo que el porcentaje acumulado sea del 79%. Sin embargo usando una 4 componente representariamos el 90% de los datos, algo que se considera optimo en PCA. \n",
        "\n",
        "Vamos a graficar con un diagrama de dispersion las dos primeras componentes para estudiar mejor su relacion."
      ],
      "metadata": {
        "id": "PpQ4Ruo7CccN"
      }
    },
    {
      "cell_type": "markdown",
      "source": [
        "# Diagrama de Dispersion\n"
      ],
      "metadata": {
        "id": "fgfwboeaYakp"
      }
    },
    {
      "cell_type": "markdown",
      "source": [
        "Multiplicando valor del autovector asociado a la componente por el vector de atributos de ese Pokemon podemos calcular el valor de dicho pokemon en su componente.\n",
        "\n",
        "Para ello es necesario almacenar los valores de cada pokemon en cada componente. Creamos dos matrices que representen estos datos que rellenraremos usando el metodo to_numpy() para pasar el DataFrame a una matriz con la que poder indexar nuestros valores.\n",
        "\n",
        "Ademas señalaremos 4 puntos en nuestro diagrama de dispersion los cuales luego vamos a analizar en detalle para entender que nos estan indicando.\n",
        "\n"
      ],
      "metadata": {
        "id": "wkIslK7dugGe"
      }
    },
    {
      "cell_type": "code",
      "source": [
        "# Creamos dos matrices de zeros que iremos rellenando con los valores de las dos priemras componentes y transformamos n\n",
        "pkmn_comp1 = np.zeros(len(data.index))\n",
        "pkmn_comp2 = np.zeros(len(data.index))\n",
        "\n",
        "data_mat = data.to_numpy()\n",
        "\n",
        "for i in range(len(data.index)):\n",
        "  for j in range(len(data.columns)):\n",
        "    pkmn_comp1[i] = pkmn_comp1[i] + autovec[0][j] * data_mat[i][j]\n",
        "    pkmn_comp2[i] = pkmn_comp2[i] + autovec[1][j] * data_mat[i][j]\n",
        "fig, ax = plt.subplots()\n",
        "ax.scatter(pkmn_comp1, pkmn_comp2)\n",
        "ax.set_title('Pokemons en componentes 1 y 2', loc = \"center\", fontdict = {'fontsize':14, 'fontweight':'bold'})\n",
        "ax.set_xlabel(\"Componente 1\")\n",
        "ax.set_ylabel(\"Componente 2\")\n",
        "plt.show()"
      ],
      "metadata": {
        "id": "eHs9HzeMhAw3",
        "colab": {
          "base_uri": "https://localhost:8080/",
          "height": 296
        },
        "outputId": "f67345ea-97af-4900-ca2e-440d441266f8"
      },
      "execution_count": 27,
      "outputs": [
        {
          "output_type": "display_data",
          "data": {
            "text/plain": [
              "<Figure size 432x288 with 1 Axes>"
            ],
            "image/png": "[encoded data removed]"
          },
          "metadata": {
            "needs_background": "light"
          }
        }
      ]
    },
    {
      "cell_type": "markdown",
      "metadata": {
        "id": "opq3SUHaxbed"
      },
      "source": [
        "La grafica representa la posicion de los 20 pokemon en funcion de la priemra y segunda componente. Es interesante explicar porque no hay linealidad en nuestros datos. Es decir se ve que no seria posible pintar una recta de regresion que este centrada para todos los valores. Esto es asi precisamente porque el objetivo del PCA es explicar la mayor cantidad de informacion con el menor numero de variables posible. Si la Componente 1 y la 2 tuviesen muchos datos explicados por las mismas variables estariamos representando la misma informacion con menos variables, algo que es mucho menos eficiente. Veamos que atributos expresan las componentes 1 y 2 para asi saber cuales de los distintos STATS de los Pokemon son los mas significativos."
      ]
    },
    {
      "cell_type": "code",
      "execution_count": 22,
      "metadata": {
        "id": "f5Q0iWCRxavg",
        "colab": {
          "base_uri": "https://localhost:8080/",
          "height": 237
        },
        "outputId": "f9395356-4db9-4c6e-d7b1-af3f09b5178a"
      },
      "outputs": [
        {
          "output_type": "execute_result",
          "data": {
            "text/plain": [
              "                  Explicación atributos componente 1  \\\n",
              "PS                                          0.188782   \n",
              "Ataque                                      0.072890   \n",
              "Defensa                                     0.159372   \n",
              "Ataque especial                             0.039393   \n",
              "Defensa especial                            0.424151   \n",
              "Velocidad                                   0.033056   \n",
              "\n",
              "                  Explicación atributos componente 2  \n",
              "PS                                          0.187199  \n",
              "Ataque                                      0.115899  \n",
              "Defensa                                     0.208106  \n",
              "Ataque especial                             0.053762  \n",
              "Defensa especial                            0.013170  \n",
              "Velocidad                                   0.331288  "
            ],
            "text/html": [
              "\n",
              "  <div id=\"df-95b019c0-eef0-4de8-88cc-6c266a30f6e5\">\n",
              "    <div class=\"colab-df-container\">\n",
              "      <div>\n",
              "<style scoped>\n",
              "    .dataframe tbody tr th:only-of-type {\n",
              "        vertical-align: middle;\n",
              "    }\n",
              "\n",
              "    .dataframe tbody tr th {\n",
              "        vertical-align: top;\n",
              "    }\n",
              "\n",
              "    .dataframe thead th {\n",
              "        text-align: right;\n",
              "    }\n",
              "</style>\n",
              "<table border=\"1\" class=\"dataframe\">\n",
              "  <thead>\n",
              "    <tr style=\"text-align: right;\">\n",
              "      <th></th>\n",
              "      <th>Explicación atributos componente 1</th>\n",
              "      <th>Explicación atributos componente 2</th>\n",
              "    </tr>\n",
              "  </thead>\n",
              "  <tbody>\n",
              "    <tr>\n",
              "      <th>PS</th>\n",
              "      <td>0.188782</td>\n",
              "      <td>0.187199</td>\n",
              "    </tr>\n",
              "    <tr>\n",
              "      <th>Ataque</th>\n",
              "      <td>0.072890</td>\n",
              "      <td>0.115899</td>\n",
              "    </tr>\n",
              "    <tr>\n",
              "      <th>Defensa</th>\n",
              "      <td>0.159372</td>\n",
              "      <td>0.208106</td>\n",
              "    </tr>\n",
              "    <tr>\n",
              "      <th>Ataque especial</th>\n",
              "      <td>0.039393</td>\n",
              "      <td>0.053762</td>\n",
              "    </tr>\n",
              "    <tr>\n",
              "      <th>Defensa especial</th>\n",
              "      <td>0.424151</td>\n",
              "      <td>0.013170</td>\n",
              "    </tr>\n",
              "    <tr>\n",
              "      <th>Velocidad</th>\n",
              "      <td>0.033056</td>\n",
              "      <td>0.331288</td>\n",
              "    </tr>\n",
              "  </tbody>\n",
              "</table>\n",
              "</div>\n",
              "      <button class=\"colab-df-convert\" onclick=\"convertToInteractive('df-95b019c0-eef0-4de8-88cc-6c266a30f6e5')\"\n",
              "              title=\"Convert this dataframe to an interactive table.\"\n",
              "              style=\"display:none;\">\n",
              "        \n",
              "  <svg xmlns=\"http://www.w3.org/2000/svg\" height=\"24px\"viewBox=\"0 0 24 24\"\n",
              "       width=\"24px\">\n",
              "    <path d=\"M0 0h24v24H0V0z\" fill=\"none\"/>\n",
              "    <path d=\"M18.56 5.44l.94 2.06.94-2.06 2.06-.94-2.06-.94-.94-2.06-.94 2.06-2.06.94zm-11 1L8.5 8.5l.94-2.06 2.06-.94-2.06-.94L8.5 2.5l-.94 2.06-2.06.94zm10 10l.94 2.06.94-2.06 2.06-.94-2.06-.94-.94-2.06-.94 2.06-2.06.94z\"/><path d=\"M17.41 7.96l-1.37-1.37c-.4-.4-.92-.59-1.43-.59-.52 0-1.04.2-1.43.59L10.3 9.45l-7.72 7.72c-.78.78-.78 2.05 0 2.83L4 21.41c.39.39.9.59 1.41.59.51 0 1.02-.2 1.41-.59l7.78-7.78 2.81-2.81c.8-.78.8-2.07 0-2.86zM5.41 20L4 18.59l7.72-7.72 1.47 1.35L5.41 20z\"/>\n",
              "  </svg>\n",
              "      </button>\n",
              "      \n",
              "  <style>\n",
              "    .colab-df-container {\n",
              "      display:flex;\n",
              "      flex-wrap:wrap;\n",
              "      gap: 12px;\n",
              "    }\n",
              "\n",
              "    .colab-df-convert {\n",
              "      background-color: #E8F0FE;\n",
              "      border: none;\n",
              "      border-radius: 50%;\n",
              "      cursor: pointer;\n",
              "      display: none;\n",
              "      fill: #1967D2;\n",
              "      height: 32px;\n",
              "      padding: 0 0 0 0;\n",
              "      width: 32px;\n",
              "    }\n",
              "\n",
              "    .colab-df-convert:hover {\n",
              "      background-color: #E2EBFA;\n",
              "      box-shadow: 0px 1px 2px rgba(60, 64, 67, 0.3), 0px 1px 3px 1px rgba(60, 64, 67, 0.15);\n",
              "      fill: #174EA6;\n",
              "    }\n",
              "\n",
              "    [theme=dark] .colab-df-convert {\n",
              "      background-color: #3B4455;\n",
              "      fill: #D2E3FC;\n",
              "    }\n",
              "\n",
              "    [theme=dark] .colab-df-convert:hover {\n",
              "      background-color: #434B5C;\n",
              "      box-shadow: 0px 1px 3px 1px rgba(0, 0, 0, 0.15);\n",
              "      filter: drop-shadow(0px 1px 2px rgba(0, 0, 0, 0.3));\n",
              "      fill: #FFFFFF;\n",
              "    }\n",
              "  </style>\n",
              "\n",
              "      <script>\n",
              "        const buttonEl =\n",
              "          document.querySelector('#df-95b019c0-eef0-4de8-88cc-6c266a30f6e5 button.colab-df-convert');\n",
              "        buttonEl.style.display =\n",
              "          google.colab.kernel.accessAllowed ? 'block' : 'none';\n",
              "\n",
              "        async function convertToInteractive(key) {\n",
              "          const element = document.querySelector('#df-95b019c0-eef0-4de8-88cc-6c266a30f6e5');\n",
              "          const dataTable =\n",
              "            await google.colab.kernel.invokeFunction('convertToInteractive',\n",
              "                                                     [key], {});\n",
              "          if (!dataTable) return;\n",
              "\n",
              "          const docLinkHtml = 'Like what you see? Visit the ' +\n",
              "            '<a target=\"_blank\" href=https://colab.research.google.com/notebooks/data_table.ipynb>data table notebook</a>'\n",
              "            + ' to learn more about interactive tables.';\n",
              "          element.innerHTML = '';\n",
              "          dataTable['output_type'] = 'display_data';\n",
              "          await google.colab.output.renderOutput(dataTable, element);\n",
              "          const docLink = document.createElement('div');\n",
              "          docLink.innerHTML = docLinkHtml;\n",
              "          element.appendChild(docLink);\n",
              "        }\n",
              "      </script>\n",
              "    </div>\n",
              "  </div>\n",
              "  "
            ]
          },
          "metadata": {},
          "execution_count": 22
        }
      ],
      "source": [
        "sumcomp1 = abs(autovec[0]/sum(abs(autovec)))\n",
        "df_sumcomp1 = pd.DataFrame(sumcomp1, index= [\"PS\",\t\"Ataque\",\t\"Defensa\",\t\"Ataque especial\",\t\"Defensa especial\",\t\"Velocidad\"], columns=['Explicación atributos componente 1'])\n",
        "\n",
        "sumcomp2 = abs(autovec[1]/sum(abs(autovec)))\n",
        "df_sumcomp2 = pd.DataFrame(sumcomp2, index= [\"PS\",\t\"Ataque\",\t\"Defensa\",\t\"Ataque especial\",\t\"Defensa especial\",\t\"Velocidad\"], columns=['Explicación atributos componente 2'])\n",
        "\n",
        "df_concat = pd.concat([df_sumcomp1,df_sumcomp2],axis=1)\n",
        "df_concat"
      ]
    },
    {
      "cell_type": "markdown",
      "source": [
        "El porcetnaje de explicacion de calcula diviendo el valor de los autovectores de esa componente entre la suma de estos. Posteriormente usamos la funcion df.concat para mostrar la explicacion de cada atributo en un mismo DataFrame y sea mas facil de leer.\n",
        "\n",
        "En este caso podemos ver claramente que para la componente 1 los atributos de \"Defensa Especial\" y \"PS\" son los mas representados por esta con un 42% y 19% respectivamente.\n",
        "\n",
        "Por otra parte para la segunda componente son \"Defensa\" y \"Velocidad\" con un 33% y un 21% respectivamente. \n",
        "\n",
        "Que las dos Componentes no tengan atributos en comun entre los dos mas explicados tiene sentido ya que es precismente lo que pretende lograr el PCA, con la menor cantidad de componentes posibles representar la mayor cantidad de datos. Ademas es interesnate que la explicacion de \"Defensa Especial\" en la segunda componente sea el valor mas bajo de explicacion de esta lo que indica que la mayoria de \"Defensa Especial\" esta siendo valorada por la componente 1.  Sin embargo cabe resaltar que el hecho de que tanto la componente 1 como la 2 expliquen el \"PS\" con un 19% nos hace entender que podemos mejorar este modelo ya este atributo esta siendo explicado por dos componentes, algo que lo hace menos optimo.\n",
        "\n",
        "Una vez entendida la explicacion de cada atributo de cada componente podemos proceder a analizar 4 puntos especificos de la grafica. Para ello se cambiaran de color 4 puntos en espeficico de la grafica."
      ],
      "metadata": {
        "id": "HvIDsH8xyHD0"
      }
    },
    {
      "cell_type": "code",
      "source": [
        "fig, ax = plt.subplots()\n",
        "ax.scatter(pkmn_comp1, pkmn_comp2)\n",
        "#Pintamos los puntos de interes de otro color para resaltarlos\n",
        "ax.scatter(pkmn_comp1[14], pkmn_comp2[14], color = 'red')\n",
        "ax.scatter(pkmn_comp1[17], pkmn_comp2[17], color = 'orange')\n",
        "ax.scatter(pkmn_comp1[9], pkmn_comp2[9], color = 'magenta')\n",
        "ax.scatter(pkmn_comp1[12], pkmn_comp2[12], color = 'yellow')\n",
        "ax.set_title('Pokemons en componentes 1 y 2', loc = \"center\", fontdict = {'fontsize':14, 'fontweight':'bold'})\n",
        "ax.set_xlabel(\"Componente 1\")\n",
        "ax.set_ylabel(\"Componente 2\")\n",
        "plt.show()\n",
        "\n",
        "#Mostramos un DataFrame con los Pokemon elegidos y sus atributos\n",
        "df_9 = pd.DataFrame(data_mat[9], index= [\"PS\",\t\"Ataque\",\t\"Defensa\",\t\"Ataque especial\",\t\"Defensa especial\",\t\"Velocidad\"], columns=['Abomasnow'])\n",
        "df_12 = pd.DataFrame(data_mat[12], index= [\"PS\",\t\"Ataque\",\t\"Defensa\",\t\"Ataque especial\",\t\"Defensa especial\",\t\"Velocidad\"], columns=['Jolteon'])\n",
        "df_14 = pd.DataFrame(data_mat[14], index= [\"PS\",\t\"Ataque\",\t\"Defensa\",\t\"Ataque especial\",\t\"Defensa especial\",\t\"Velocidad\"], columns=['Pikachu'])\n",
        "df_17 = pd.DataFrame(data_mat[17], index= [\"PS\",\t\"Ataque\",\t\"Defensa\",\t\"Ataque especial\",\t\"Defensa especial\",\t\"Velocidad\"], columns=['Giratina'])\n",
        "\n",
        "df_pkconcat = pd.concat([df_9,df_12,df_14,df_17],axis=1)\n",
        "df_pkconcat"
      ],
      "metadata": {
        "colab": {
          "base_uri": "https://localhost:8080/",
          "height": 516
        },
        "id": "RoJV_KcTzgr5",
        "outputId": "bb84ca6e-f6d1-4161-f756-d8223ff942f1"
      },
      "execution_count": 30,
      "outputs": [
        {
          "output_type": "display_data",
          "data": {
            "text/plain": [
              "<Figure size 432x288 with 1 Axes>"
            ],
            "image/png": "[encoded data removed]"
          },
          "metadata": {
            "needs_background": "light"
          }
        },
        {
          "output_type": "execute_result",
          "data": {
            "text/plain": [
              "                  Abomasnow  Jolteon  Pikachu  Giratina\n",
              "PS                        3        2        1         4\n",
              "Ataque                    3        2        2         4\n",
              "Defensa                   2        2        1         3\n",
              "Ataque especial           3        4        2         4\n",
              "Defensa especial          2        3        1         3\n",
              "Velocidad                 2        5        3         3"
            ],
            "text/html": [
              "\n",
              "  <div id=\"df-07f6253f-d4cc-481c-8423-ee4609baaaee\">\n",
              "    <div class=\"colab-df-container\">\n",
              "      <div>\n",
              "<style scoped>\n",
              "    .dataframe tbody tr th:only-of-type {\n",
              "        vertical-align: middle;\n",
              "    }\n",
              "\n",
              "    .dataframe tbody tr th {\n",
              "        vertical-align: top;\n",
              "    }\n",
              "\n",
              "    .dataframe thead th {\n",
              "        text-align: right;\n",
              "    }\n",
              "</style>\n",
              "<table border=\"1\" class=\"dataframe\">\n",
              "  <thead>\n",
              "    <tr style=\"text-align: right;\">\n",
              "      <th></th>\n",
              "      <th>Abomasnow</th>\n",
              "      <th>Jolteon</th>\n",
              "      <th>Pikachu</th>\n",
              "      <th>Giratina</th>\n",
              "    </tr>\n",
              "  </thead>\n",
              "  <tbody>\n",
              "    <tr>\n",
              "      <th>PS</th>\n",
              "      <td>3</td>\n",
              "      <td>2</td>\n",
              "      <td>1</td>\n",
              "      <td>4</td>\n",
              "    </tr>\n",
              "    <tr>\n",
              "      <th>Ataque</th>\n",
              "      <td>3</td>\n",
              "      <td>2</td>\n",
              "      <td>2</td>\n",
              "      <td>4</td>\n",
              "    </tr>\n",
              "    <tr>\n",
              "      <th>Defensa</th>\n",
              "      <td>2</td>\n",
              "      <td>2</td>\n",
              "      <td>1</td>\n",
              "      <td>3</td>\n",
              "    </tr>\n",
              "    <tr>\n",
              "      <th>Ataque especial</th>\n",
              "      <td>3</td>\n",
              "      <td>4</td>\n",
              "      <td>2</td>\n",
              "      <td>4</td>\n",
              "    </tr>\n",
              "    <tr>\n",
              "      <th>Defensa especial</th>\n",
              "      <td>2</td>\n",
              "      <td>3</td>\n",
              "      <td>1</td>\n",
              "      <td>3</td>\n",
              "    </tr>\n",
              "    <tr>\n",
              "      <th>Velocidad</th>\n",
              "      <td>2</td>\n",
              "      <td>5</td>\n",
              "      <td>3</td>\n",
              "      <td>3</td>\n",
              "    </tr>\n",
              "  </tbody>\n",
              "</table>\n",
              "</div>\n",
              "      <button class=\"colab-df-convert\" onclick=\"convertToInteractive('df-07f6253f-d4cc-481c-8423-ee4609baaaee')\"\n",
              "              title=\"Convert this dataframe to an interactive table.\"\n",
              "              style=\"display:none;\">\n",
              "        \n",
              "  <svg xmlns=\"http://www.w3.org/2000/svg\" height=\"24px\"viewBox=\"0 0 24 24\"\n",
              "       width=\"24px\">\n",
              "    <path d=\"M0 0h24v24H0V0z\" fill=\"none\"/>\n",
              "    <path d=\"M18.56 5.44l.94 2.06.94-2.06 2.06-.94-2.06-.94-.94-2.06-.94 2.06-2.06.94zm-11 1L8.5 8.5l.94-2.06 2.06-.94-2.06-.94L8.5 2.5l-.94 2.06-2.06.94zm10 10l.94 2.06.94-2.06 2.06-.94-2.06-.94-.94-2.06-.94 2.06-2.06.94z\"/><path d=\"M17.41 7.96l-1.37-1.37c-.4-.4-.92-.59-1.43-.59-.52 0-1.04.2-1.43.59L10.3 9.45l-7.72 7.72c-.78.78-.78 2.05 0 2.83L4 21.41c.39.39.9.59 1.41.59.51 0 1.02-.2 1.41-.59l7.78-7.78 2.81-2.81c.8-.78.8-2.07 0-2.86zM5.41 20L4 18.59l7.72-7.72 1.47 1.35L5.41 20z\"/>\n",
              "  </svg>\n",
              "      </button>\n",
              "      \n",
              "  <style>\n",
              "    .colab-df-container {\n",
              "      display:flex;\n",
              "      flex-wrap:wrap;\n",
              "      gap: 12px;\n",
              "    }\n",
              "\n",
              "    .colab-df-convert {\n",
              "      background-color: #E8F0FE;\n",
              "      border: none;\n",
              "      border-radius: 50%;\n",
              "      cursor: pointer;\n",
              "      display: none;\n",
              "      fill: #1967D2;\n",
              "      height: 32px;\n",
              "      padding: 0 0 0 0;\n",
              "      width: 32px;\n",
              "    }\n",
              "\n",
              "    .colab-df-convert:hover {\n",
              "      background-color: #E2EBFA;\n",
              "      box-shadow: 0px 1px 2px rgba(60, 64, 67, 0.3), 0px 1px 3px 1px rgba(60, 64, 67, 0.15);\n",
              "      fill: #174EA6;\n",
              "    }\n",
              "\n",
              "    [theme=dark] .colab-df-convert {\n",
              "      background-color: #3B4455;\n",
              "      fill: #D2E3FC;\n",
              "    }\n",
              "\n",
              "    [theme=dark] .colab-df-convert:hover {\n",
              "      background-color: #434B5C;\n",
              "      box-shadow: 0px 1px 3px 1px rgba(0, 0, 0, 0.15);\n",
              "      filter: drop-shadow(0px 1px 2px rgba(0, 0, 0, 0.3));\n",
              "      fill: #FFFFFF;\n",
              "    }\n",
              "  </style>\n",
              "\n",
              "      <script>\n",
              "        const buttonEl =\n",
              "          document.querySelector('#df-07f6253f-d4cc-481c-8423-ee4609baaaee button.colab-df-convert');\n",
              "        buttonEl.style.display =\n",
              "          google.colab.kernel.accessAllowed ? 'block' : 'none';\n",
              "\n",
              "        async function convertToInteractive(key) {\n",
              "          const element = document.querySelector('#df-07f6253f-d4cc-481c-8423-ee4609baaaee');\n",
              "          const dataTable =\n",
              "            await google.colab.kernel.invokeFunction('convertToInteractive',\n",
              "                                                     [key], {});\n",
              "          if (!dataTable) return;\n",
              "\n",
              "          const docLinkHtml = 'Like what you see? Visit the ' +\n",
              "            '<a target=\"_blank\" href=https://colab.research.google.com/notebooks/data_table.ipynb>data table notebook</a>'\n",
              "            + ' to learn more about interactive tables.';\n",
              "          element.innerHTML = '';\n",
              "          dataTable['output_type'] = 'display_data';\n",
              "          await google.colab.output.renderOutput(dataTable, element);\n",
              "          const docLink = document.createElement('div');\n",
              "          docLink.innerHTML = docLinkHtml;\n",
              "          element.appendChild(docLink);\n",
              "        }\n",
              "      </script>\n",
              "    </div>\n",
              "  </div>\n",
              "  "
            ]
          },
          "metadata": {},
          "execution_count": 30
        }
      ]
    },
    {
      "cell_type": "markdown",
      "source": [
        "El primer punto interesante que analizar es el punto magenta referente al pokemon Abomasnow. Hemos elegido este punto porque es el mas centrico de nuestro diagrama de dispersion por tanto podriamos concluir que el Pokemon al que este punto pertenece es uno con valores medios de \"Defensa Especial\", \"PS\", \"Defensa\" y \"Velocidad\". Teniendo en cuanta que los valores de las estadisticas de cada pokemon van de 1 a 5 observamos como Abomasnow tiene todos los valores de sus atributos como 2 o 3 lo que concuerda con nuestro razonamiento. \n",
        "\n",
        "El punto rojo hace refereincia al pokemon Pikachu. Hemos elegido este punto porque en el vemos que segun el diagrama de dispersion tiene muy poco peso para la primera componente pero mucho para la segunda. Es decir, deberia tener poca Defensa Especial pero mucha Velocidad. En este caso vamos que el unico valor en el que tiene mas de 2 puntos en el Velocidad que tiene 3 por tanto vamos que sus estadisticas van acorde con lo representado por la grafica.\n",
        "\n",
        "El siguiente punto a analizar es el Naraja referente al pokemon Giratina. En este punto vemos que esperamos valores altos para la primera componente y vemos que tiene estadisticas mas altas que la media y ademas para PS y Def Esp tiene 4 y 3 puntos lo que indica un gran peso en la primera componente ya los dos valores mas representados por la componente son altos. Ademas son altos en la segunda componente tambien pero esta, al tener menos peso que la primera, los datos se ven menos alterados por cambios en esos valores. \n",
        "\n",
        "Por ultimo nos centraremos en el punto amarillo, refernte a Jolteon. Vemos que tiene el valor mas alto de todos para la segunda componente lo que indicaria que este Pokemon tiene un valor muy alto en \"Velocidad\". Mirando en la tabla vemos que efectivamente tiene la maxima puntuacion en velocidad 5 por lo que la segunda componente tiene mucho peso para este Pokemon. Ademas vemos que los atributos de la primera componente estan en la media y por eso esta tan arriba para la segunda componente pero centrado en la primera. Es decir, Jolteon es un buen pokemon en Velocidad pero en la media para Defensa Especial y PS."
      ],
      "metadata": {
        "id": "woSE-KMlzsU3"
      }
    },
    {
      "cell_type": "markdown",
      "metadata": {
        "id": "NBnIxHGaonCl"
      },
      "source": [
        "# Apartado 4"
      ]
    },
    {
      "cell_type": "markdown",
      "metadata": {
        "id": "UjVk1ka70jVk"
      },
      "source": [
        "Para este apartado se nos pide usar la libreria scikit-learn para realizar los mismos pasos que en los apartados anteriores. Como en el apartado 1 limpiamos y normalizamos nuestro DataFrame vamos a partir de ahi. "
      ]
    },
    {
      "cell_type": "code",
      "execution_count": 24,
      "metadata": {
        "id": "D6DWbxkuoc3R",
        "colab": {
          "base_uri": "https://localhost:8080/"
        },
        "outputId": "6290737e-36ac-4abb-ef6b-746c7d1b29b8"
      },
      "outputs": [
        {
          "output_type": "execute_result",
          "data": {
            "text/plain": [
              "array([[ 0.07460611, -1.31149507,  0.40635393,  0.55391508,  0.29082839],\n",
              "       [ 1.06156513, -0.12361938,  0.88795268, -0.05047351, -0.61544119],\n",
              "       [ 0.40138774,  2.17319805, -0.37385539, -0.23735387,  1.05633782],\n",
              "       [-2.4973882 ,  0.02984208,  1.31613204,  0.13463962, -0.01988458],\n",
              "       [-0.32392296, -0.52148558,  0.26952027,  0.90048508,  0.70586177],\n",
              "       [-2.37519112, -0.57566287,  0.17377563,  0.17393135,  0.39502732],\n",
              "       [-0.37790141, -1.05701597, -1.10223713, -0.76419515, -0.62730212],\n",
              "       [ 1.21029374, -0.07979217, -0.07293971, -1.57334516, -0.67798057],\n",
              "       [-0.22509755,  1.73011396,  1.36637411,  0.66912612,  0.33056396],\n",
              "       [ 0.35328174, -0.13786839,  0.28888141, -1.48113417, -0.03119192],\n",
              "       [ 3.73931858,  0.373642  , -0.75653218, -0.23039978,  0.42116712],\n",
              "       [ 0.57196059,  0.15009498,  1.64004144, -0.02401388, -0.49950281],\n",
              "       [-0.28916959, -1.89885207, -0.59449695,  1.20510273, -0.83613209],\n",
              "       [-0.18704221,  0.19531287, -0.71862047,  0.02046472,  1.54757401],\n",
              "       [ 3.1439549 , -1.19124218,  0.73026334,  0.39526158, -0.18878984],\n",
              "       [-2.23467861, -0.11443082, -1.42494835, -0.12065272, -0.4210712 ],\n",
              "       [-0.09280114,  2.60875084, -0.87018146,  1.60282964, -1.23909369],\n",
              "       [-2.34865959,  0.07366929,  0.35523965, -1.38823203, -0.08242396],\n",
              "       [ 0.19868068,  1.59384045, -0.78472039, -0.37916245, -0.21428668],\n",
              "       [ 0.19680319, -1.91700002, -0.73600247,  0.59320681,  0.70574028]])"
            ]
          },
          "metadata": {},
          "execution_count": 24
        }
      ],
      "source": [
        "\n",
        "from sklearn.decomposition import PCA\n",
        "from sklearn.metrics import explained_variance_score, confusion_matrix, accuracy_score, classification_report, log_loss\n",
        "pca=PCA(n_components=0.95)\n",
        "pca.fit(data_transformed)\n",
        "data_pca=pca.transform(data_transformed)\n",
        "data_pca\n"
      ]
    }
  ],
  "metadata": {
    "colab": {
      "provenance": []
    },
    "kernelspec": {
      "display_name": "Python 3",
      "name": "python3"
    },
    "language_info": {
      "name": "python"
    }
  },
  "nbformat": 4,
  "nbformat_minor": 0
}